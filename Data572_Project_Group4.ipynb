{
 "cells": [
  {
   "cell_type": "markdown",
   "metadata": {},
   "source": [
    "# <center> DS572 <center>"
   ]
  },
  {
   "cell_type": "markdown",
   "metadata": {},
   "source": [
    "##### <center> Group members: Amali Jayatileke, Vidal Mendoza Tinoco, and Kelsey Strachan <center>"
   ]
  },
  {
   "cell_type": "markdown",
   "metadata": {},
   "source": [
    "---"
   ]
  },
  {
   "cell_type": "markdown",
   "metadata": {},
   "source": [
    "<span style=\"color: red;\"> **Project Notes/Requirements:** </span>"
   ]
  },
  {
   "cell_type": "markdown",
   "metadata": {},
   "source": [
    "Choose three out of the five methods (i.e., Logistic Regression, K-Nearest Neighbors, Linear Discriminant Analysis, Decision Trees, and Random Forests) to classify the quality of milk based on its seven features (i.e., pH, Temperature, Taste, Odor, Fat, Turbidity, and Colour). The quality of milk is classified into three grades: low (bad), medium (moderate), and high (good). pH, Temperature, and Colour are quantitative features, and they are given actual values. Taste, Odor, Fat, and Turbidity are qualitative features, and they are assigned 1 (satisfactory) or 0 (unsatisfactory)."
   ]
  },
  {
   "cell_type": "markdown",
   "metadata": {},
   "source": [
    "<span style=\"color: red;\"> **To accomplish the project, you should perform the following procedures:** </span>\n",
    "- Data preprocessing: Use appropriate techniques to preprocess data (e.g., normalization, standardization).\n",
    "- Data resampling: Use appropriate approaches to resample data (e.g., leave-one-out cross- validation, k-fold cross-validation).\n",
    "- Model building and training: Build three proper models with the three supervised machine learning methods chosen and train them on the dataset.\n",
    "- Hyperparameter tuning: Tune the respective hyperparameters of the three models to improve their performance.\n",
    "- Result evaluation and visualization: Evaluate model results with specific metrics (loss and accuracy if applicable), and visualize them in an intuitive way (loss/accuracy vs. epoch graphs if applicable).\n",
    "- Analysis and discussion: Analyze and discuss the performance of the three models and the strategies you used for performance improvement, as well as the difficulties you encountered and how you solved them."
   ]
  },
  {
   "cell_type": "markdown",
   "metadata": {},
   "source": [
    "---"
   ]
  },
  {
   "cell_type": "markdown",
   "metadata": {},
   "source": [
    "## <ins> Introduction </ins>"
   ]
  },
  {
   "cell_type": "markdown",
   "metadata": {},
   "source": [
    "Text here if we want to use this file to generate report. Can also use Google Docs or whatever anyone else prefers!"
   ]
  },
  {
   "cell_type": "markdown",
   "metadata": {},
   "source": [
    "## <ins> Exploratory Data Analysis (EDA) </ins>"
   ]
  },
  {
   "cell_type": "markdown",
   "metadata": {},
   "source": [
    "Text here if we want to use this file to generate report. Can also use Google Docs or whatever anyone else prefers!"
   ]
  },
  {
   "cell_type": "markdown",
   "metadata": {},
   "source": [
    "### Dataset description"
   ]
  },
  {
   "cell_type": "code",
   "execution_count": 35,
   "metadata": {},
   "outputs": [],
   "source": [
    "# Imports packages necessary for data analysis - we can increase/reduce, as needed!\n",
    "import warnings\n",
    "\n",
    "import altair as alt\n",
    "import numpy as np\n",
    "import pandas as pd\n",
    "import scipy\n",
    "import sklearn\n",
    "from sklearn import tree\n",
    "from sklearn.compose import ColumnTransformer, make_column_transformer\n",
    "from sklearn.dummy import DummyClassifier\n",
    "from sklearn.impute import SimpleImputer\n",
    "from sklearn.linear_model import LogisticRegression\n",
    "from sklearn.metrics import (\n",
    "    classification_report,\n",
    "    confusion_matrix,\n",
    "    ConfusionMatrixDisplay\n",
    ")\n",
    "from sklearn.model_selection import RandomizedSearchCV, cross_validate, train_test_split\n",
    "from sklearn.neighbors import KNeighborsClassifier\n",
    "from sklearn.pipeline import Pipeline, make_pipeline\n",
    "from sklearn.preprocessing import (\n",
    "    Normalizer,\n",
    "    OneHotEncoder,\n",
    "    StandardScaler,\n",
    "    normalize,\n",
    "    scale,\n",
    "    LabelEncoder\n",
    ")\n",
    "from sklearn.tree import DecisionTreeClassifier\n",
    "\n",
    "warnings.filterwarnings(\"ignore\", category=UserWarning)"
   ]
  },
  {
   "cell_type": "code",
   "execution_count": 2,
   "metadata": {},
   "outputs": [],
   "source": [
    "# Reads in milknew.csv file to perform EDA\n",
    "full_milk = pd.read_csv(\"milknew.csv\")"
   ]
  },
  {
   "cell_type": "code",
   "execution_count": 3,
   "metadata": {},
   "outputs": [
    {
     "data": {
      "text/html": [
       "<style type=\"text/css\">\n",
       "#T_5a583 caption {\n",
       "  font-size: 120%;\n",
       "  font-weight: bold;\n",
       "}\n",
       "</style>\n",
       "<table id=\"T_5a583\">\n",
       "  <caption>Table #. First 5 Rows of Full Milk Data</caption>\n",
       "  <thead>\n",
       "    <tr>\n",
       "      <th class=\"blank level0\" >&nbsp;</th>\n",
       "      <th id=\"T_5a583_level0_col0\" class=\"col_heading level0 col0\" >pH</th>\n",
       "      <th id=\"T_5a583_level0_col1\" class=\"col_heading level0 col1\" >Temprature</th>\n",
       "      <th id=\"T_5a583_level0_col2\" class=\"col_heading level0 col2\" >Taste</th>\n",
       "      <th id=\"T_5a583_level0_col3\" class=\"col_heading level0 col3\" >Odor</th>\n",
       "      <th id=\"T_5a583_level0_col4\" class=\"col_heading level0 col4\" >Fat </th>\n",
       "      <th id=\"T_5a583_level0_col5\" class=\"col_heading level0 col5\" >Turbidity</th>\n",
       "      <th id=\"T_5a583_level0_col6\" class=\"col_heading level0 col6\" >Colour</th>\n",
       "      <th id=\"T_5a583_level0_col7\" class=\"col_heading level0 col7\" >Grade</th>\n",
       "    </tr>\n",
       "  </thead>\n",
       "  <tbody>\n",
       "    <tr>\n",
       "      <th id=\"T_5a583_level0_row0\" class=\"row_heading level0 row0\" >0</th>\n",
       "      <td id=\"T_5a583_row0_col0\" class=\"data row0 col0\" >6.600000</td>\n",
       "      <td id=\"T_5a583_row0_col1\" class=\"data row0 col1\" >35</td>\n",
       "      <td id=\"T_5a583_row0_col2\" class=\"data row0 col2\" >1</td>\n",
       "      <td id=\"T_5a583_row0_col3\" class=\"data row0 col3\" >0</td>\n",
       "      <td id=\"T_5a583_row0_col4\" class=\"data row0 col4\" >1</td>\n",
       "      <td id=\"T_5a583_row0_col5\" class=\"data row0 col5\" >0</td>\n",
       "      <td id=\"T_5a583_row0_col6\" class=\"data row0 col6\" >254</td>\n",
       "      <td id=\"T_5a583_row0_col7\" class=\"data row0 col7\" >high</td>\n",
       "    </tr>\n",
       "    <tr>\n",
       "      <th id=\"T_5a583_level0_row1\" class=\"row_heading level0 row1\" >1</th>\n",
       "      <td id=\"T_5a583_row1_col0\" class=\"data row1 col0\" >6.600000</td>\n",
       "      <td id=\"T_5a583_row1_col1\" class=\"data row1 col1\" >36</td>\n",
       "      <td id=\"T_5a583_row1_col2\" class=\"data row1 col2\" >0</td>\n",
       "      <td id=\"T_5a583_row1_col3\" class=\"data row1 col3\" >1</td>\n",
       "      <td id=\"T_5a583_row1_col4\" class=\"data row1 col4\" >0</td>\n",
       "      <td id=\"T_5a583_row1_col5\" class=\"data row1 col5\" >1</td>\n",
       "      <td id=\"T_5a583_row1_col6\" class=\"data row1 col6\" >253</td>\n",
       "      <td id=\"T_5a583_row1_col7\" class=\"data row1 col7\" >high</td>\n",
       "    </tr>\n",
       "    <tr>\n",
       "      <th id=\"T_5a583_level0_row2\" class=\"row_heading level0 row2\" >2</th>\n",
       "      <td id=\"T_5a583_row2_col0\" class=\"data row2 col0\" >8.500000</td>\n",
       "      <td id=\"T_5a583_row2_col1\" class=\"data row2 col1\" >70</td>\n",
       "      <td id=\"T_5a583_row2_col2\" class=\"data row2 col2\" >1</td>\n",
       "      <td id=\"T_5a583_row2_col3\" class=\"data row2 col3\" >1</td>\n",
       "      <td id=\"T_5a583_row2_col4\" class=\"data row2 col4\" >1</td>\n",
       "      <td id=\"T_5a583_row2_col5\" class=\"data row2 col5\" >1</td>\n",
       "      <td id=\"T_5a583_row2_col6\" class=\"data row2 col6\" >246</td>\n",
       "      <td id=\"T_5a583_row2_col7\" class=\"data row2 col7\" >low</td>\n",
       "    </tr>\n",
       "    <tr>\n",
       "      <th id=\"T_5a583_level0_row3\" class=\"row_heading level0 row3\" >3</th>\n",
       "      <td id=\"T_5a583_row3_col0\" class=\"data row3 col0\" >9.500000</td>\n",
       "      <td id=\"T_5a583_row3_col1\" class=\"data row3 col1\" >34</td>\n",
       "      <td id=\"T_5a583_row3_col2\" class=\"data row3 col2\" >1</td>\n",
       "      <td id=\"T_5a583_row3_col3\" class=\"data row3 col3\" >1</td>\n",
       "      <td id=\"T_5a583_row3_col4\" class=\"data row3 col4\" >0</td>\n",
       "      <td id=\"T_5a583_row3_col5\" class=\"data row3 col5\" >1</td>\n",
       "      <td id=\"T_5a583_row3_col6\" class=\"data row3 col6\" >255</td>\n",
       "      <td id=\"T_5a583_row3_col7\" class=\"data row3 col7\" >low</td>\n",
       "    </tr>\n",
       "    <tr>\n",
       "      <th id=\"T_5a583_level0_row4\" class=\"row_heading level0 row4\" >4</th>\n",
       "      <td id=\"T_5a583_row4_col0\" class=\"data row4 col0\" >6.600000</td>\n",
       "      <td id=\"T_5a583_row4_col1\" class=\"data row4 col1\" >37</td>\n",
       "      <td id=\"T_5a583_row4_col2\" class=\"data row4 col2\" >0</td>\n",
       "      <td id=\"T_5a583_row4_col3\" class=\"data row4 col3\" >0</td>\n",
       "      <td id=\"T_5a583_row4_col4\" class=\"data row4 col4\" >0</td>\n",
       "      <td id=\"T_5a583_row4_col5\" class=\"data row4 col5\" >0</td>\n",
       "      <td id=\"T_5a583_row4_col6\" class=\"data row4 col6\" >255</td>\n",
       "      <td id=\"T_5a583_row4_col7\" class=\"data row4 col7\" >medium</td>\n",
       "    </tr>\n",
       "  </tbody>\n",
       "</table>\n"
      ],
      "text/plain": [
       "<pandas.io.formats.style.Styler at 0x145c4ad20>"
      ]
     },
     "execution_count": 3,
     "metadata": {},
     "output_type": "execute_result"
    }
   ],
   "source": [
    "# Visualizes first 5 rows. Sets styles for table titles going forward\n",
    "styles = [\n",
    "    dict(selector=\"caption\", props=[(\"font-size\", \"120%\"), (\"font-weight\", \"bold\")])\n",
    "]\n",
    "\n",
    "full_milk.head().style.set_caption(\n",
    "    \"Table #. First 5 Rows of Full Milk Data\"\n",
    ").set_table_styles(styles)"
   ]
  },
  {
   "cell_type": "code",
   "execution_count": 4,
   "metadata": {},
   "outputs": [],
   "source": [
    "# Renaming temperature column due to typographical error\n",
    "full_milk = full_milk.rename(columns={\"Temprature\": \"Temperature\", \"Fat \":\"Fat\"})"
   ]
  },
  {
   "cell_type": "code",
   "execution_count": 5,
   "metadata": {},
   "outputs": [
    {
     "data": {
      "text/html": [
       "<style type=\"text/css\">\n",
       "#T_aede5 caption {\n",
       "  font-size: 120%;\n",
       "  font-weight: bold;\n",
       "}\n",
       "</style>\n",
       "<table id=\"T_aede5\">\n",
       "  <caption>Table #. Updated Full Milk Data</caption>\n",
       "  <thead>\n",
       "    <tr>\n",
       "      <th class=\"blank level0\" >&nbsp;</th>\n",
       "      <th id=\"T_aede5_level0_col0\" class=\"col_heading level0 col0\" >pH</th>\n",
       "      <th id=\"T_aede5_level0_col1\" class=\"col_heading level0 col1\" >Temperature</th>\n",
       "      <th id=\"T_aede5_level0_col2\" class=\"col_heading level0 col2\" >Taste</th>\n",
       "      <th id=\"T_aede5_level0_col3\" class=\"col_heading level0 col3\" >Odor</th>\n",
       "      <th id=\"T_aede5_level0_col4\" class=\"col_heading level0 col4\" >Fat</th>\n",
       "      <th id=\"T_aede5_level0_col5\" class=\"col_heading level0 col5\" >Turbidity</th>\n",
       "      <th id=\"T_aede5_level0_col6\" class=\"col_heading level0 col6\" >Colour</th>\n",
       "      <th id=\"T_aede5_level0_col7\" class=\"col_heading level0 col7\" >Grade</th>\n",
       "    </tr>\n",
       "  </thead>\n",
       "  <tbody>\n",
       "    <tr>\n",
       "      <th id=\"T_aede5_level0_row0\" class=\"row_heading level0 row0\" >0</th>\n",
       "      <td id=\"T_aede5_row0_col0\" class=\"data row0 col0\" >6.600000</td>\n",
       "      <td id=\"T_aede5_row0_col1\" class=\"data row0 col1\" >35</td>\n",
       "      <td id=\"T_aede5_row0_col2\" class=\"data row0 col2\" >1</td>\n",
       "      <td id=\"T_aede5_row0_col3\" class=\"data row0 col3\" >0</td>\n",
       "      <td id=\"T_aede5_row0_col4\" class=\"data row0 col4\" >1</td>\n",
       "      <td id=\"T_aede5_row0_col5\" class=\"data row0 col5\" >0</td>\n",
       "      <td id=\"T_aede5_row0_col6\" class=\"data row0 col6\" >254</td>\n",
       "      <td id=\"T_aede5_row0_col7\" class=\"data row0 col7\" >high</td>\n",
       "    </tr>\n",
       "    <tr>\n",
       "      <th id=\"T_aede5_level0_row1\" class=\"row_heading level0 row1\" >1</th>\n",
       "      <td id=\"T_aede5_row1_col0\" class=\"data row1 col0\" >6.600000</td>\n",
       "      <td id=\"T_aede5_row1_col1\" class=\"data row1 col1\" >36</td>\n",
       "      <td id=\"T_aede5_row1_col2\" class=\"data row1 col2\" >0</td>\n",
       "      <td id=\"T_aede5_row1_col3\" class=\"data row1 col3\" >1</td>\n",
       "      <td id=\"T_aede5_row1_col4\" class=\"data row1 col4\" >0</td>\n",
       "      <td id=\"T_aede5_row1_col5\" class=\"data row1 col5\" >1</td>\n",
       "      <td id=\"T_aede5_row1_col6\" class=\"data row1 col6\" >253</td>\n",
       "      <td id=\"T_aede5_row1_col7\" class=\"data row1 col7\" >high</td>\n",
       "    </tr>\n",
       "    <tr>\n",
       "      <th id=\"T_aede5_level0_row2\" class=\"row_heading level0 row2\" >2</th>\n",
       "      <td id=\"T_aede5_row2_col0\" class=\"data row2 col0\" >8.500000</td>\n",
       "      <td id=\"T_aede5_row2_col1\" class=\"data row2 col1\" >70</td>\n",
       "      <td id=\"T_aede5_row2_col2\" class=\"data row2 col2\" >1</td>\n",
       "      <td id=\"T_aede5_row2_col3\" class=\"data row2 col3\" >1</td>\n",
       "      <td id=\"T_aede5_row2_col4\" class=\"data row2 col4\" >1</td>\n",
       "      <td id=\"T_aede5_row2_col5\" class=\"data row2 col5\" >1</td>\n",
       "      <td id=\"T_aede5_row2_col6\" class=\"data row2 col6\" >246</td>\n",
       "      <td id=\"T_aede5_row2_col7\" class=\"data row2 col7\" >low</td>\n",
       "    </tr>\n",
       "    <tr>\n",
       "      <th id=\"T_aede5_level0_row3\" class=\"row_heading level0 row3\" >3</th>\n",
       "      <td id=\"T_aede5_row3_col0\" class=\"data row3 col0\" >9.500000</td>\n",
       "      <td id=\"T_aede5_row3_col1\" class=\"data row3 col1\" >34</td>\n",
       "      <td id=\"T_aede5_row3_col2\" class=\"data row3 col2\" >1</td>\n",
       "      <td id=\"T_aede5_row3_col3\" class=\"data row3 col3\" >1</td>\n",
       "      <td id=\"T_aede5_row3_col4\" class=\"data row3 col4\" >0</td>\n",
       "      <td id=\"T_aede5_row3_col5\" class=\"data row3 col5\" >1</td>\n",
       "      <td id=\"T_aede5_row3_col6\" class=\"data row3 col6\" >255</td>\n",
       "      <td id=\"T_aede5_row3_col7\" class=\"data row3 col7\" >low</td>\n",
       "    </tr>\n",
       "    <tr>\n",
       "      <th id=\"T_aede5_level0_row4\" class=\"row_heading level0 row4\" >4</th>\n",
       "      <td id=\"T_aede5_row4_col0\" class=\"data row4 col0\" >6.600000</td>\n",
       "      <td id=\"T_aede5_row4_col1\" class=\"data row4 col1\" >37</td>\n",
       "      <td id=\"T_aede5_row4_col2\" class=\"data row4 col2\" >0</td>\n",
       "      <td id=\"T_aede5_row4_col3\" class=\"data row4 col3\" >0</td>\n",
       "      <td id=\"T_aede5_row4_col4\" class=\"data row4 col4\" >0</td>\n",
       "      <td id=\"T_aede5_row4_col5\" class=\"data row4 col5\" >0</td>\n",
       "      <td id=\"T_aede5_row4_col6\" class=\"data row4 col6\" >255</td>\n",
       "      <td id=\"T_aede5_row4_col7\" class=\"data row4 col7\" >medium</td>\n",
       "    </tr>\n",
       "  </tbody>\n",
       "</table>\n"
      ],
      "text/plain": [
       "<pandas.io.formats.style.Styler at 0x175014fb0>"
      ]
     },
     "execution_count": 5,
     "metadata": {},
     "output_type": "execute_result"
    }
   ],
   "source": [
    "# Visualizes first 5 rows. Sets styles for table titles going forward\n",
    "styles = [\n",
    "    dict(selector=\"caption\", props=[(\"font-size\", \"120%\"), (\"font-weight\", \"bold\")])\n",
    "]\n",
    "\n",
    "full_milk.head().style.set_caption(\n",
    "    \"Table #. Updated Full Milk Data\"\n",
    ").set_table_styles(styles)"
   ]
  },
  {
   "cell_type": "markdown",
   "metadata": {},
   "source": [
    "Each columns' `dtype` is observed by calling `.info()` on the `full_milk` dataframe. Null values noted will be addressed and filled with `missing`, `median`, or `most_frequent` using `SimpleImputer()` strategy."
   ]
  },
  {
   "cell_type": "code",
   "execution_count": 6,
   "metadata": {},
   "outputs": [
    {
     "name": "stdout",
     "output_type": "stream",
     "text": [
      "<class 'pandas.core.frame.DataFrame'>\n",
      "RangeIndex: 1059 entries, 0 to 1058\n",
      "Data columns (total 8 columns):\n",
      " #   Column       Non-Null Count  Dtype  \n",
      "---  ------       --------------  -----  \n",
      " 0   pH           1059 non-null   float64\n",
      " 1   Temperature  1059 non-null   int64  \n",
      " 2   Taste        1059 non-null   int64  \n",
      " 3   Odor         1059 non-null   int64  \n",
      " 4   Fat          1059 non-null   int64  \n",
      " 5   Turbidity    1059 non-null   int64  \n",
      " 6   Colour       1059 non-null   int64  \n",
      " 7   Grade        1059 non-null   object \n",
      "dtypes: float64(1), int64(6), object(1)\n",
      "memory usage: 66.3+ KB\n"
     ]
    }
   ],
   "source": [
    "# Calls info on full_milk data\n",
    "milk_info = full_milk.info()\n",
    "milk_info"
   ]
  },
  {
   "cell_type": "code",
   "execution_count": 7,
   "metadata": {},
   "outputs": [
    {
     "data": {
      "text/html": [
       "<style type=\"text/css\">\n",
       "#T_a749b caption {\n",
       "  font-size: 120%;\n",
       "  font-weight: bold;\n",
       "}\n",
       "</style>\n",
       "<table id=\"T_a749b\">\n",
       "  <caption>Table #. Statistics of Full Milk Data</caption>\n",
       "  <thead>\n",
       "    <tr>\n",
       "      <th class=\"blank level0\" >&nbsp;</th>\n",
       "      <th id=\"T_a749b_level0_col0\" class=\"col_heading level0 col0\" >pH</th>\n",
       "      <th id=\"T_a749b_level0_col1\" class=\"col_heading level0 col1\" >Temperature</th>\n",
       "      <th id=\"T_a749b_level0_col2\" class=\"col_heading level0 col2\" >Taste</th>\n",
       "      <th id=\"T_a749b_level0_col3\" class=\"col_heading level0 col3\" >Odor</th>\n",
       "      <th id=\"T_a749b_level0_col4\" class=\"col_heading level0 col4\" >Fat</th>\n",
       "      <th id=\"T_a749b_level0_col5\" class=\"col_heading level0 col5\" >Turbidity</th>\n",
       "      <th id=\"T_a749b_level0_col6\" class=\"col_heading level0 col6\" >Colour</th>\n",
       "      <th id=\"T_a749b_level0_col7\" class=\"col_heading level0 col7\" >Grade</th>\n",
       "    </tr>\n",
       "  </thead>\n",
       "  <tbody>\n",
       "    <tr>\n",
       "      <th id=\"T_a749b_level0_row0\" class=\"row_heading level0 row0\" >count</th>\n",
       "      <td id=\"T_a749b_row0_col0\" class=\"data row0 col0\" >1059.000000</td>\n",
       "      <td id=\"T_a749b_row0_col1\" class=\"data row0 col1\" >1059.000000</td>\n",
       "      <td id=\"T_a749b_row0_col2\" class=\"data row0 col2\" >1059.000000</td>\n",
       "      <td id=\"T_a749b_row0_col3\" class=\"data row0 col3\" >1059.000000</td>\n",
       "      <td id=\"T_a749b_row0_col4\" class=\"data row0 col4\" >1059.000000</td>\n",
       "      <td id=\"T_a749b_row0_col5\" class=\"data row0 col5\" >1059.000000</td>\n",
       "      <td id=\"T_a749b_row0_col6\" class=\"data row0 col6\" >1059.000000</td>\n",
       "      <td id=\"T_a749b_row0_col7\" class=\"data row0 col7\" >1059</td>\n",
       "    </tr>\n",
       "    <tr>\n",
       "      <th id=\"T_a749b_level0_row1\" class=\"row_heading level0 row1\" >unique</th>\n",
       "      <td id=\"T_a749b_row1_col0\" class=\"data row1 col0\" >nan</td>\n",
       "      <td id=\"T_a749b_row1_col1\" class=\"data row1 col1\" >nan</td>\n",
       "      <td id=\"T_a749b_row1_col2\" class=\"data row1 col2\" >nan</td>\n",
       "      <td id=\"T_a749b_row1_col3\" class=\"data row1 col3\" >nan</td>\n",
       "      <td id=\"T_a749b_row1_col4\" class=\"data row1 col4\" >nan</td>\n",
       "      <td id=\"T_a749b_row1_col5\" class=\"data row1 col5\" >nan</td>\n",
       "      <td id=\"T_a749b_row1_col6\" class=\"data row1 col6\" >nan</td>\n",
       "      <td id=\"T_a749b_row1_col7\" class=\"data row1 col7\" >3</td>\n",
       "    </tr>\n",
       "    <tr>\n",
       "      <th id=\"T_a749b_level0_row2\" class=\"row_heading level0 row2\" >top</th>\n",
       "      <td id=\"T_a749b_row2_col0\" class=\"data row2 col0\" >nan</td>\n",
       "      <td id=\"T_a749b_row2_col1\" class=\"data row2 col1\" >nan</td>\n",
       "      <td id=\"T_a749b_row2_col2\" class=\"data row2 col2\" >nan</td>\n",
       "      <td id=\"T_a749b_row2_col3\" class=\"data row2 col3\" >nan</td>\n",
       "      <td id=\"T_a749b_row2_col4\" class=\"data row2 col4\" >nan</td>\n",
       "      <td id=\"T_a749b_row2_col5\" class=\"data row2 col5\" >nan</td>\n",
       "      <td id=\"T_a749b_row2_col6\" class=\"data row2 col6\" >nan</td>\n",
       "      <td id=\"T_a749b_row2_col7\" class=\"data row2 col7\" >low</td>\n",
       "    </tr>\n",
       "    <tr>\n",
       "      <th id=\"T_a749b_level0_row3\" class=\"row_heading level0 row3\" >freq</th>\n",
       "      <td id=\"T_a749b_row3_col0\" class=\"data row3 col0\" >nan</td>\n",
       "      <td id=\"T_a749b_row3_col1\" class=\"data row3 col1\" >nan</td>\n",
       "      <td id=\"T_a749b_row3_col2\" class=\"data row3 col2\" >nan</td>\n",
       "      <td id=\"T_a749b_row3_col3\" class=\"data row3 col3\" >nan</td>\n",
       "      <td id=\"T_a749b_row3_col4\" class=\"data row3 col4\" >nan</td>\n",
       "      <td id=\"T_a749b_row3_col5\" class=\"data row3 col5\" >nan</td>\n",
       "      <td id=\"T_a749b_row3_col6\" class=\"data row3 col6\" >nan</td>\n",
       "      <td id=\"T_a749b_row3_col7\" class=\"data row3 col7\" >429</td>\n",
       "    </tr>\n",
       "    <tr>\n",
       "      <th id=\"T_a749b_level0_row4\" class=\"row_heading level0 row4\" >mean</th>\n",
       "      <td id=\"T_a749b_row4_col0\" class=\"data row4 col0\" >6.630123</td>\n",
       "      <td id=\"T_a749b_row4_col1\" class=\"data row4 col1\" >44.226629</td>\n",
       "      <td id=\"T_a749b_row4_col2\" class=\"data row4 col2\" >0.546742</td>\n",
       "      <td id=\"T_a749b_row4_col3\" class=\"data row4 col3\" >0.432483</td>\n",
       "      <td id=\"T_a749b_row4_col4\" class=\"data row4 col4\" >0.671388</td>\n",
       "      <td id=\"T_a749b_row4_col5\" class=\"data row4 col5\" >0.491029</td>\n",
       "      <td id=\"T_a749b_row4_col6\" class=\"data row4 col6\" >251.840415</td>\n",
       "      <td id=\"T_a749b_row4_col7\" class=\"data row4 col7\" >nan</td>\n",
       "    </tr>\n",
       "    <tr>\n",
       "      <th id=\"T_a749b_level0_row5\" class=\"row_heading level0 row5\" >std</th>\n",
       "      <td id=\"T_a749b_row5_col0\" class=\"data row5 col0\" >1.399679</td>\n",
       "      <td id=\"T_a749b_row5_col1\" class=\"data row5 col1\" >10.098364</td>\n",
       "      <td id=\"T_a749b_row5_col2\" class=\"data row5 col2\" >0.498046</td>\n",
       "      <td id=\"T_a749b_row5_col3\" class=\"data row5 col3\" >0.495655</td>\n",
       "      <td id=\"T_a749b_row5_col4\" class=\"data row5 col4\" >0.469930</td>\n",
       "      <td id=\"T_a749b_row5_col5\" class=\"data row5 col5\" >0.500156</td>\n",
       "      <td id=\"T_a749b_row5_col6\" class=\"data row5 col6\" >4.307424</td>\n",
       "      <td id=\"T_a749b_row5_col7\" class=\"data row5 col7\" >nan</td>\n",
       "    </tr>\n",
       "    <tr>\n",
       "      <th id=\"T_a749b_level0_row6\" class=\"row_heading level0 row6\" >min</th>\n",
       "      <td id=\"T_a749b_row6_col0\" class=\"data row6 col0\" >3.000000</td>\n",
       "      <td id=\"T_a749b_row6_col1\" class=\"data row6 col1\" >34.000000</td>\n",
       "      <td id=\"T_a749b_row6_col2\" class=\"data row6 col2\" >0.000000</td>\n",
       "      <td id=\"T_a749b_row6_col3\" class=\"data row6 col3\" >0.000000</td>\n",
       "      <td id=\"T_a749b_row6_col4\" class=\"data row6 col4\" >0.000000</td>\n",
       "      <td id=\"T_a749b_row6_col5\" class=\"data row6 col5\" >0.000000</td>\n",
       "      <td id=\"T_a749b_row6_col6\" class=\"data row6 col6\" >240.000000</td>\n",
       "      <td id=\"T_a749b_row6_col7\" class=\"data row6 col7\" >nan</td>\n",
       "    </tr>\n",
       "    <tr>\n",
       "      <th id=\"T_a749b_level0_row7\" class=\"row_heading level0 row7\" >25%</th>\n",
       "      <td id=\"T_a749b_row7_col0\" class=\"data row7 col0\" >6.500000</td>\n",
       "      <td id=\"T_a749b_row7_col1\" class=\"data row7 col1\" >38.000000</td>\n",
       "      <td id=\"T_a749b_row7_col2\" class=\"data row7 col2\" >0.000000</td>\n",
       "      <td id=\"T_a749b_row7_col3\" class=\"data row7 col3\" >0.000000</td>\n",
       "      <td id=\"T_a749b_row7_col4\" class=\"data row7 col4\" >0.000000</td>\n",
       "      <td id=\"T_a749b_row7_col5\" class=\"data row7 col5\" >0.000000</td>\n",
       "      <td id=\"T_a749b_row7_col6\" class=\"data row7 col6\" >250.000000</td>\n",
       "      <td id=\"T_a749b_row7_col7\" class=\"data row7 col7\" >nan</td>\n",
       "    </tr>\n",
       "    <tr>\n",
       "      <th id=\"T_a749b_level0_row8\" class=\"row_heading level0 row8\" >50%</th>\n",
       "      <td id=\"T_a749b_row8_col0\" class=\"data row8 col0\" >6.700000</td>\n",
       "      <td id=\"T_a749b_row8_col1\" class=\"data row8 col1\" >41.000000</td>\n",
       "      <td id=\"T_a749b_row8_col2\" class=\"data row8 col2\" >1.000000</td>\n",
       "      <td id=\"T_a749b_row8_col3\" class=\"data row8 col3\" >0.000000</td>\n",
       "      <td id=\"T_a749b_row8_col4\" class=\"data row8 col4\" >1.000000</td>\n",
       "      <td id=\"T_a749b_row8_col5\" class=\"data row8 col5\" >0.000000</td>\n",
       "      <td id=\"T_a749b_row8_col6\" class=\"data row8 col6\" >255.000000</td>\n",
       "      <td id=\"T_a749b_row8_col7\" class=\"data row8 col7\" >nan</td>\n",
       "    </tr>\n",
       "    <tr>\n",
       "      <th id=\"T_a749b_level0_row9\" class=\"row_heading level0 row9\" >75%</th>\n",
       "      <td id=\"T_a749b_row9_col0\" class=\"data row9 col0\" >6.800000</td>\n",
       "      <td id=\"T_a749b_row9_col1\" class=\"data row9 col1\" >45.000000</td>\n",
       "      <td id=\"T_a749b_row9_col2\" class=\"data row9 col2\" >1.000000</td>\n",
       "      <td id=\"T_a749b_row9_col3\" class=\"data row9 col3\" >1.000000</td>\n",
       "      <td id=\"T_a749b_row9_col4\" class=\"data row9 col4\" >1.000000</td>\n",
       "      <td id=\"T_a749b_row9_col5\" class=\"data row9 col5\" >1.000000</td>\n",
       "      <td id=\"T_a749b_row9_col6\" class=\"data row9 col6\" >255.000000</td>\n",
       "      <td id=\"T_a749b_row9_col7\" class=\"data row9 col7\" >nan</td>\n",
       "    </tr>\n",
       "    <tr>\n",
       "      <th id=\"T_a749b_level0_row10\" class=\"row_heading level0 row10\" >max</th>\n",
       "      <td id=\"T_a749b_row10_col0\" class=\"data row10 col0\" >9.500000</td>\n",
       "      <td id=\"T_a749b_row10_col1\" class=\"data row10 col1\" >90.000000</td>\n",
       "      <td id=\"T_a749b_row10_col2\" class=\"data row10 col2\" >1.000000</td>\n",
       "      <td id=\"T_a749b_row10_col3\" class=\"data row10 col3\" >1.000000</td>\n",
       "      <td id=\"T_a749b_row10_col4\" class=\"data row10 col4\" >1.000000</td>\n",
       "      <td id=\"T_a749b_row10_col5\" class=\"data row10 col5\" >1.000000</td>\n",
       "      <td id=\"T_a749b_row10_col6\" class=\"data row10 col6\" >255.000000</td>\n",
       "      <td id=\"T_a749b_row10_col7\" class=\"data row10 col7\" >nan</td>\n",
       "    </tr>\n",
       "  </tbody>\n",
       "</table>\n"
      ],
      "text/plain": [
       "<pandas.io.formats.style.Styler at 0x14784bef0>"
      ]
     },
     "execution_count": 7,
     "metadata": {},
     "output_type": "execute_result"
    }
   ],
   "source": [
    "# Calls describe on full_milk data\n",
    "milk_stats = (\n",
    "    full_milk.describe(include=\"all\")\n",
    "    .style.set_caption(\"Table #. Statistics of Full Milk Data\")\n",
    "    .set_table_styles(styles)\n",
    ")\n",
    "milk_stats"
   ]
  },
  {
   "cell_type": "markdown",
   "metadata": {},
   "source": [
    "---"
   ]
  },
  {
   "cell_type": "markdown",
   "metadata": {},
   "source": [
    "<span style=\"color: red;\"> **Further EDA to follow :)** </span>"
   ]
  },
  {
   "cell_type": "markdown",
   "metadata": {},
   "source": [
    "## <ins> Methods & Results </ins>"
   ]
  },
  {
   "cell_type": "code",
   "execution_count": 8,
   "metadata": {},
   "outputs": [],
   "source": [
    "# Splits data into train and test sets\n",
    "train_df, test_df = train_test_split(full_milk, test_size=0.2, random_state=2025)"
   ]
  },
  {
   "cell_type": "markdown",
   "metadata": {},
   "source": [
    "`train_df` and `test_df` are further separated into feature and target train and test sets. The first five rows of `X_train` are called to assess data."
   ]
  },
  {
   "cell_type": "code",
   "execution_count": 9,
   "metadata": {},
   "outputs": [
    {
     "data": {
      "text/html": [
       "<style type=\"text/css\">\n",
       "#T_aab4a caption {\n",
       "  font-size: 120%;\n",
       "  font-weight: bold;\n",
       "}\n",
       "</style>\n",
       "<table id=\"T_aab4a\">\n",
       "  <caption>Table #. First 5 Rows of Feature Training Data</caption>\n",
       "  <thead>\n",
       "    <tr>\n",
       "      <th class=\"blank level0\" >&nbsp;</th>\n",
       "      <th id=\"T_aab4a_level0_col0\" class=\"col_heading level0 col0\" >pH</th>\n",
       "      <th id=\"T_aab4a_level0_col1\" class=\"col_heading level0 col1\" >Temperature</th>\n",
       "      <th id=\"T_aab4a_level0_col2\" class=\"col_heading level0 col2\" >Taste</th>\n",
       "      <th id=\"T_aab4a_level0_col3\" class=\"col_heading level0 col3\" >Odor</th>\n",
       "      <th id=\"T_aab4a_level0_col4\" class=\"col_heading level0 col4\" >Fat</th>\n",
       "      <th id=\"T_aab4a_level0_col5\" class=\"col_heading level0 col5\" >Turbidity</th>\n",
       "      <th id=\"T_aab4a_level0_col6\" class=\"col_heading level0 col6\" >Colour</th>\n",
       "    </tr>\n",
       "  </thead>\n",
       "  <tbody>\n",
       "    <tr>\n",
       "      <th id=\"T_aab4a_level0_row0\" class=\"row_heading level0 row0\" >884</th>\n",
       "      <td id=\"T_aab4a_row0_col0\" class=\"data row0 col0\" >9.000000</td>\n",
       "      <td id=\"T_aab4a_row0_col1\" class=\"data row0 col1\" >43</td>\n",
       "      <td id=\"T_aab4a_row0_col2\" class=\"data row0 col2\" >1</td>\n",
       "      <td id=\"T_aab4a_row0_col3\" class=\"data row0 col3\" >0</td>\n",
       "      <td id=\"T_aab4a_row0_col4\" class=\"data row0 col4\" >1</td>\n",
       "      <td id=\"T_aab4a_row0_col5\" class=\"data row0 col5\" >1</td>\n",
       "      <td id=\"T_aab4a_row0_col6\" class=\"data row0 col6\" >250</td>\n",
       "    </tr>\n",
       "    <tr>\n",
       "      <th id=\"T_aab4a_level0_row1\" class=\"row_heading level0 row1\" >715</th>\n",
       "      <td id=\"T_aab4a_row1_col0\" class=\"data row1 col0\" >3.000000</td>\n",
       "      <td id=\"T_aab4a_row1_col1\" class=\"data row1 col1\" >40</td>\n",
       "      <td id=\"T_aab4a_row1_col2\" class=\"data row1 col2\" >1</td>\n",
       "      <td id=\"T_aab4a_row1_col3\" class=\"data row1 col3\" >1</td>\n",
       "      <td id=\"T_aab4a_row1_col4\" class=\"data row1 col4\" >1</td>\n",
       "      <td id=\"T_aab4a_row1_col5\" class=\"data row1 col5\" >1</td>\n",
       "      <td id=\"T_aab4a_row1_col6\" class=\"data row1 col6\" >255</td>\n",
       "    </tr>\n",
       "    <tr>\n",
       "      <th id=\"T_aab4a_level0_row2\" class=\"row_heading level0 row2\" >450</th>\n",
       "      <td id=\"T_aab4a_row2_col0\" class=\"data row2 col0\" >4.500000</td>\n",
       "      <td id=\"T_aab4a_row2_col1\" class=\"data row2 col1\" >38</td>\n",
       "      <td id=\"T_aab4a_row2_col2\" class=\"data row2 col2\" >0</td>\n",
       "      <td id=\"T_aab4a_row2_col3\" class=\"data row2 col3\" >1</td>\n",
       "      <td id=\"T_aab4a_row2_col4\" class=\"data row2 col4\" >1</td>\n",
       "      <td id=\"T_aab4a_row2_col5\" class=\"data row2 col5\" >1</td>\n",
       "      <td id=\"T_aab4a_row2_col6\" class=\"data row2 col6\" >255</td>\n",
       "    </tr>\n",
       "    <tr>\n",
       "      <th id=\"T_aab4a_level0_row3\" class=\"row_heading level0 row3\" >856</th>\n",
       "      <td id=\"T_aab4a_row3_col0\" class=\"data row3 col0\" >6.800000</td>\n",
       "      <td id=\"T_aab4a_row3_col1\" class=\"data row3 col1\" >40</td>\n",
       "      <td id=\"T_aab4a_row3_col2\" class=\"data row3 col2\" >1</td>\n",
       "      <td id=\"T_aab4a_row3_col3\" class=\"data row3 col3\" >1</td>\n",
       "      <td id=\"T_aab4a_row3_col4\" class=\"data row3 col4\" >1</td>\n",
       "      <td id=\"T_aab4a_row3_col5\" class=\"data row3 col5\" >1</td>\n",
       "      <td id=\"T_aab4a_row3_col6\" class=\"data row3 col6\" >255</td>\n",
       "    </tr>\n",
       "    <tr>\n",
       "      <th id=\"T_aab4a_level0_row4\" class=\"row_heading level0 row4\" >667</th>\n",
       "      <td id=\"T_aab4a_row4_col0\" class=\"data row4 col0\" >6.600000</td>\n",
       "      <td id=\"T_aab4a_row4_col1\" class=\"data row4 col1\" >37</td>\n",
       "      <td id=\"T_aab4a_row4_col2\" class=\"data row4 col2\" >1</td>\n",
       "      <td id=\"T_aab4a_row4_col3\" class=\"data row4 col3\" >1</td>\n",
       "      <td id=\"T_aab4a_row4_col4\" class=\"data row4 col4\" >1</td>\n",
       "      <td id=\"T_aab4a_row4_col5\" class=\"data row4 col5\" >1</td>\n",
       "      <td id=\"T_aab4a_row4_col6\" class=\"data row4 col6\" >255</td>\n",
       "    </tr>\n",
       "  </tbody>\n",
       "</table>\n"
      ],
      "text/plain": [
       "<pandas.io.formats.style.Styler at 0x1750d6480>"
      ]
     },
     "execution_count": 9,
     "metadata": {},
     "output_type": "execute_result"
    }
   ],
   "source": [
    "# Splits data into train and test sets\n",
    "X_train = train_df.drop(columns=[\"Grade\"])\n",
    "y_train = train_df[\"Grade\"]\n",
    "X_test = test_df.drop(columns=[\"Grade\"])\n",
    "y_test = test_df[\"Grade\"]\n",
    "\n",
    "X_train.head().style.set_caption(\n",
    "    \"Table #. First 5 Rows of Feature Training Data\"\n",
    ").set_table_styles(styles)"
   ]
  },
  {
   "cell_type": "code",
   "execution_count": 10,
   "metadata": {},
   "outputs": [
    {
     "name": "stdout",
     "output_type": "stream",
     "text": [
      "Training set shape of X_train and y_train: (847, 7) (847,)\n"
     ]
    }
   ],
   "source": [
    "print(\"Training set shape of X_train and y_train:\", X_train.shape, y_train.shape)"
   ]
  },
  {
   "cell_type": "code",
   "execution_count": 11,
   "metadata": {},
   "outputs": [
    {
     "data": {
      "text/plain": [
       "Grade\n",
       "low       0.414404\n",
       "medium    0.364817\n",
       "high      0.220779\n",
       "Name: proportion, dtype: float64"
      ]
     },
     "execution_count": 11,
     "metadata": {},
     "output_type": "execute_result"
    }
   ],
   "source": [
    "# Checks the distribution of positive and negative target values in y_train for class imbalance\n",
    "check_target_count = y_train.value_counts(normalize=True)\n",
    "check_target_count"
   ]
  },
  {
   "cell_type": "markdown",
   "metadata": {},
   "source": [
    "`.dtypes` is called on the training set to assess data type of each feature column prior to preprocessing."
   ]
  },
  {
   "cell_type": "code",
   "execution_count": 12,
   "metadata": {},
   "outputs": [
    {
     "data": {
      "text/plain": [
       "pH             float64\n",
       "Temperature      int64\n",
       "Taste            int64\n",
       "Odor             int64\n",
       "Fat              int64\n",
       "Turbidity        int64\n",
       "Colour           int64\n",
       "dtype: object"
      ]
     },
     "execution_count": 12,
     "metadata": {},
     "output_type": "execute_result"
    }
   ],
   "source": [
    "# Calls .dtypes of of X_train\n",
    "X_train.dtypes"
   ]
  },
  {
   "cell_type": "code",
   "execution_count": 13,
   "metadata": {},
   "outputs": [
    {
     "data": {
      "text/plain": [
       "Index(['pH', 'Temperature', 'Taste', 'Odor', 'Fat', 'Turbidity', 'Colour'], dtype='object')"
      ]
     },
     "execution_count": 13,
     "metadata": {},
     "output_type": "execute_result"
    }
   ],
   "source": [
    "X_train.columns"
   ]
  },
  {
   "cell_type": "code",
   "execution_count": 14,
   "metadata": {},
   "outputs": [],
   "source": [
    "# Separates columns used for feature table into numeric, categorical, and binary features\n",
    "numeric_features = [\"pH\",\n",
    "                   \"Temperature\",\n",
    "                   \"Colour\"]\n",
    "categorical_features = [\n",
    "    \"Taste\",\n",
    "    \"Odor\",\n",
    "    \"Fat\",\n",
    "    \"Turbidity\"\n",
    "]\n",
    "#binary_features = [\"\"]"
   ]
  },
  {
   "cell_type": "markdown",
   "metadata": {},
   "source": [
    "The `numeric_transformer` contains `SimpleImputer()` with strategy `median` alongside `StandardScaler()`. These are used to impute missing feature values with the median and to scale the data of the numeric feature, respectively.\n",
    "\n",
    "The `categorical_transformer` contains `SimpleImputer()` with strategy `constant` to impute empty cells with the value `missing`. `OneHotEncoder()` is also used to transform the categorical features into a numeric array of `dtype` integer. `handle_unknown=\"ignore\"` is specified to encode zeroes if an unknown category is found.\n",
    "\n",
    "The `binary_transformer` contains `SimpleImputer()` with strategy `most_frequent` to impute with the most frequent label if found empty. `OneHotEncoder()` is used again, however, with `drop=\"if_binary\"` argument to drop the first category in a feature that contains two categories."
   ]
  },
  {
   "cell_type": "code",
   "execution_count": 15,
   "metadata": {},
   "outputs": [],
   "source": [
    "# Creates numeric, categorical, and binary pipelines for data preprocessing\n",
    "numeric_transformer = make_pipeline(StandardScaler())\n",
    "\n",
    "categorical_transformer = make_pipeline(\n",
    "    OneHotEncoder(dtype=int, handle_unknown=\"ignore\"),\n",
    ")\n",
    "#binary_transformer = make_pipeline(\n",
    " #   SimpleImputer(strategy=\"most_frequent\"),\n",
    "  #  OneHotEncoder(drop=\"if_binary\", dtype=int),\n",
    "#)"
   ]
  },
  {
   "cell_type": "markdown",
   "metadata": {},
   "source": [
    "`make_column_transformer` is used to compile all pipelines defined above into a single column transformer called `preprocessor`"
   ]
  },
  {
   "cell_type": "code",
   "execution_count": 16,
   "metadata": {},
   "outputs": [],
   "source": [
    "# Generates column transformer that contains all necessary pipelines\n",
    "preprocessor = make_column_transformer(\n",
    "    (numeric_transformer, numeric_features),\n",
    "    (categorical_transformer, categorical_features),\n",
    "    remainder=\"passthrough\",\n",
    ")"
   ]
  },
  {
   "cell_type": "markdown",
   "metadata": {},
   "source": [
    "Before assessing estimators, a loop is generated to determine the optimal strategy for the baseline model."
   ]
  },
  {
   "cell_type": "code",
   "execution_count": 17,
   "metadata": {},
   "outputs": [
    {
     "data": {
      "text/plain": [
       "{'strategy': ['stratified', 'most_frequent', 'uniform'],\n",
       " 'accuracy': [0.37, 0.41, 0.33]}"
      ]
     },
     "execution_count": 17,
     "metadata": {},
     "output_type": "execute_result"
    }
   ],
   "source": [
    "# For loop code that determines best strategy to use in baseline model\n",
    "strategies = [\"stratified\", \"most_frequent\", \"uniform\"]\n",
    "accuracy_list = list()\n",
    "\n",
    "for selection in strategies:\n",
    "    model = DummyClassifier(strategy=selection, random_state=2025)\n",
    "    model.fit(X_train, y_train)\n",
    "    accuracy_list.append(round(model.score(X_train, y_train), 2))\n",
    "\n",
    "dc_accuracies = {\"strategy\": strategies, \"accuracy\": accuracy_list}\n",
    "dc_accuracies"
   ]
  },
  {
   "cell_type": "code",
   "execution_count": 18,
   "metadata": {},
   "outputs": [
    {
     "data": {
      "text/plain": [
       "fit_time       0.001415\n",
       "score_time     0.000838\n",
       "test_score     0.414403\n",
       "train_score    0.414404\n",
       "dtype: float64"
      ]
     },
     "execution_count": 18,
     "metadata": {},
     "output_type": "execute_result"
    }
   ],
   "source": [
    "# Creates baseline model and cross validates with X_train and y_train data. Returns the mean times and mean scores.\n",
    "dummy_model = DummyClassifier(strategy=\"most_frequent\", random_state=2023)\n",
    "dummy_scores = pd.DataFrame(\n",
    "    cross_validate(dummy_model, X_train, y_train, cv=5, return_train_score=True)\n",
    ")\n",
    "mean_dummy_scores = dummy_scores.mean()\n",
    "mean_dummy_scores"
   ]
  },
  {
   "cell_type": "markdown",
   "metadata": {},
   "source": [
    "Evaluation metrics are established below that will be used in models moving forward. Scoring types `accuracy`, `precision`, `recall` and `f1` will be evaluated."
   ]
  },
  {
   "cell_type": "markdown",
   "metadata": {},
   "source": [
    "In code that follows, `make_pipeline` is used to generate multiple different pipelines containing column transformer `preprocessor` and various estimators. `DecisionTreeClassifier()` is first estimator examined for test and train scores followed by `KNeighborsClassifier()`, and `LogisticRegression()`."
   ]
  },
  {
   "cell_type": "code",
   "execution_count": 40,
   "metadata": {},
   "outputs": [],
   "source": [
    "scoring = ['accuracy','precision', 'recall', 'f1']"
   ]
  },
  {
   "cell_type": "code",
   "execution_count": 41,
   "metadata": {},
   "outputs": [
    {
     "data": {
      "text/html": [
       "<style type=\"text/css\">\n",
       "#T_8acad caption {\n",
       "  font-size: 120%;\n",
       "  font-weight: bold;\n",
       "}\n",
       "</style>\n",
       "<table id=\"T_8acad\">\n",
       "  <caption>Table #. Scores from DecisionTreeClassifier</caption>\n",
       "  <thead>\n",
       "    <tr>\n",
       "      <th class=\"blank level0\" >&nbsp;</th>\n",
       "      <th id=\"T_8acad_level0_col0\" class=\"col_heading level0 col0\" >fit_time</th>\n",
       "      <th id=\"T_8acad_level0_col1\" class=\"col_heading level0 col1\" >score_time</th>\n",
       "      <th id=\"T_8acad_level0_col2\" class=\"col_heading level0 col2\" >test_accuracy</th>\n",
       "      <th id=\"T_8acad_level0_col3\" class=\"col_heading level0 col3\" >train_accuracy</th>\n",
       "      <th id=\"T_8acad_level0_col4\" class=\"col_heading level0 col4\" >test_precision</th>\n",
       "      <th id=\"T_8acad_level0_col5\" class=\"col_heading level0 col5\" >train_precision</th>\n",
       "      <th id=\"T_8acad_level0_col6\" class=\"col_heading level0 col6\" >test_recall</th>\n",
       "      <th id=\"T_8acad_level0_col7\" class=\"col_heading level0 col7\" >train_recall</th>\n",
       "      <th id=\"T_8acad_level0_col8\" class=\"col_heading level0 col8\" >test_f1</th>\n",
       "      <th id=\"T_8acad_level0_col9\" class=\"col_heading level0 col9\" >train_f1</th>\n",
       "    </tr>\n",
       "  </thead>\n",
       "  <tbody>\n",
       "    <tr>\n",
       "      <th id=\"T_8acad_level0_row0\" class=\"row_heading level0 row0\" >0</th>\n",
       "      <td id=\"T_8acad_row0_col0\" class=\"data row0 col0\" >0.012724</td>\n",
       "      <td id=\"T_8acad_row0_col1\" class=\"data row0 col1\" >0.007366</td>\n",
       "      <td id=\"T_8acad_row0_col2\" class=\"data row0 col2\" >1.000000</td>\n",
       "      <td id=\"T_8acad_row0_col3\" class=\"data row0 col3\" >1.000000</td>\n",
       "      <td id=\"T_8acad_row0_col4\" class=\"data row0 col4\" >nan</td>\n",
       "      <td id=\"T_8acad_row0_col5\" class=\"data row0 col5\" >nan</td>\n",
       "      <td id=\"T_8acad_row0_col6\" class=\"data row0 col6\" >nan</td>\n",
       "      <td id=\"T_8acad_row0_col7\" class=\"data row0 col7\" >nan</td>\n",
       "      <td id=\"T_8acad_row0_col8\" class=\"data row0 col8\" >nan</td>\n",
       "      <td id=\"T_8acad_row0_col9\" class=\"data row0 col9\" >nan</td>\n",
       "    </tr>\n",
       "    <tr>\n",
       "      <th id=\"T_8acad_level0_row1\" class=\"row_heading level0 row1\" >1</th>\n",
       "      <td id=\"T_8acad_row1_col0\" class=\"data row1 col0\" >0.005600</td>\n",
       "      <td id=\"T_8acad_row1_col1\" class=\"data row1 col1\" >0.005381</td>\n",
       "      <td id=\"T_8acad_row1_col2\" class=\"data row1 col2\" >0.988235</td>\n",
       "      <td id=\"T_8acad_row1_col3\" class=\"data row1 col3\" >1.000000</td>\n",
       "      <td id=\"T_8acad_row1_col4\" class=\"data row1 col4\" >nan</td>\n",
       "      <td id=\"T_8acad_row1_col5\" class=\"data row1 col5\" >nan</td>\n",
       "      <td id=\"T_8acad_row1_col6\" class=\"data row1 col6\" >nan</td>\n",
       "      <td id=\"T_8acad_row1_col7\" class=\"data row1 col7\" >nan</td>\n",
       "      <td id=\"T_8acad_row1_col8\" class=\"data row1 col8\" >nan</td>\n",
       "      <td id=\"T_8acad_row1_col9\" class=\"data row1 col9\" >nan</td>\n",
       "    </tr>\n",
       "    <tr>\n",
       "      <th id=\"T_8acad_level0_row2\" class=\"row_heading level0 row2\" >2</th>\n",
       "      <td id=\"T_8acad_row2_col0\" class=\"data row2 col0\" >0.005363</td>\n",
       "      <td id=\"T_8acad_row2_col1\" class=\"data row2 col1\" >0.005277</td>\n",
       "      <td id=\"T_8acad_row2_col2\" class=\"data row2 col2\" >1.000000</td>\n",
       "      <td id=\"T_8acad_row2_col3\" class=\"data row2 col3\" >1.000000</td>\n",
       "      <td id=\"T_8acad_row2_col4\" class=\"data row2 col4\" >nan</td>\n",
       "      <td id=\"T_8acad_row2_col5\" class=\"data row2 col5\" >nan</td>\n",
       "      <td id=\"T_8acad_row2_col6\" class=\"data row2 col6\" >nan</td>\n",
       "      <td id=\"T_8acad_row2_col7\" class=\"data row2 col7\" >nan</td>\n",
       "      <td id=\"T_8acad_row2_col8\" class=\"data row2 col8\" >nan</td>\n",
       "      <td id=\"T_8acad_row2_col9\" class=\"data row2 col9\" >nan</td>\n",
       "    </tr>\n",
       "    <tr>\n",
       "      <th id=\"T_8acad_level0_row3\" class=\"row_heading level0 row3\" >3</th>\n",
       "      <td id=\"T_8acad_row3_col0\" class=\"data row3 col0\" >0.004458</td>\n",
       "      <td id=\"T_8acad_row3_col1\" class=\"data row3 col1\" >0.003770</td>\n",
       "      <td id=\"T_8acad_row3_col2\" class=\"data row3 col2\" >1.000000</td>\n",
       "      <td id=\"T_8acad_row3_col3\" class=\"data row3 col3\" >1.000000</td>\n",
       "      <td id=\"T_8acad_row3_col4\" class=\"data row3 col4\" >nan</td>\n",
       "      <td id=\"T_8acad_row3_col5\" class=\"data row3 col5\" >nan</td>\n",
       "      <td id=\"T_8acad_row3_col6\" class=\"data row3 col6\" >nan</td>\n",
       "      <td id=\"T_8acad_row3_col7\" class=\"data row3 col7\" >nan</td>\n",
       "      <td id=\"T_8acad_row3_col8\" class=\"data row3 col8\" >nan</td>\n",
       "      <td id=\"T_8acad_row3_col9\" class=\"data row3 col9\" >nan</td>\n",
       "    </tr>\n",
       "    <tr>\n",
       "      <th id=\"T_8acad_level0_row4\" class=\"row_heading level0 row4\" >4</th>\n",
       "      <td id=\"T_8acad_row4_col0\" class=\"data row4 col0\" >0.003717</td>\n",
       "      <td id=\"T_8acad_row4_col1\" class=\"data row4 col1\" >0.003559</td>\n",
       "      <td id=\"T_8acad_row4_col2\" class=\"data row4 col2\" >1.000000</td>\n",
       "      <td id=\"T_8acad_row4_col3\" class=\"data row4 col3\" >1.000000</td>\n",
       "      <td id=\"T_8acad_row4_col4\" class=\"data row4 col4\" >nan</td>\n",
       "      <td id=\"T_8acad_row4_col5\" class=\"data row4 col5\" >nan</td>\n",
       "      <td id=\"T_8acad_row4_col6\" class=\"data row4 col6\" >nan</td>\n",
       "      <td id=\"T_8acad_row4_col7\" class=\"data row4 col7\" >nan</td>\n",
       "      <td id=\"T_8acad_row4_col8\" class=\"data row4 col8\" >nan</td>\n",
       "      <td id=\"T_8acad_row4_col9\" class=\"data row4 col9\" >nan</td>\n",
       "    </tr>\n",
       "    <tr>\n",
       "      <th id=\"T_8acad_level0_row5\" class=\"row_heading level0 row5\" >5</th>\n",
       "      <td id=\"T_8acad_row5_col0\" class=\"data row5 col0\" >0.003921</td>\n",
       "      <td id=\"T_8acad_row5_col1\" class=\"data row5 col1\" >0.003867</td>\n",
       "      <td id=\"T_8acad_row5_col2\" class=\"data row5 col2\" >1.000000</td>\n",
       "      <td id=\"T_8acad_row5_col3\" class=\"data row5 col3\" >1.000000</td>\n",
       "      <td id=\"T_8acad_row5_col4\" class=\"data row5 col4\" >nan</td>\n",
       "      <td id=\"T_8acad_row5_col5\" class=\"data row5 col5\" >nan</td>\n",
       "      <td id=\"T_8acad_row5_col6\" class=\"data row5 col6\" >nan</td>\n",
       "      <td id=\"T_8acad_row5_col7\" class=\"data row5 col7\" >nan</td>\n",
       "      <td id=\"T_8acad_row5_col8\" class=\"data row5 col8\" >nan</td>\n",
       "      <td id=\"T_8acad_row5_col9\" class=\"data row5 col9\" >nan</td>\n",
       "    </tr>\n",
       "    <tr>\n",
       "      <th id=\"T_8acad_level0_row6\" class=\"row_heading level0 row6\" >6</th>\n",
       "      <td id=\"T_8acad_row6_col0\" class=\"data row6 col0\" >0.003933</td>\n",
       "      <td id=\"T_8acad_row6_col1\" class=\"data row6 col1\" >0.003425</td>\n",
       "      <td id=\"T_8acad_row6_col2\" class=\"data row6 col2\" >1.000000</td>\n",
       "      <td id=\"T_8acad_row6_col3\" class=\"data row6 col3\" >1.000000</td>\n",
       "      <td id=\"T_8acad_row6_col4\" class=\"data row6 col4\" >nan</td>\n",
       "      <td id=\"T_8acad_row6_col5\" class=\"data row6 col5\" >nan</td>\n",
       "      <td id=\"T_8acad_row6_col6\" class=\"data row6 col6\" >nan</td>\n",
       "      <td id=\"T_8acad_row6_col7\" class=\"data row6 col7\" >nan</td>\n",
       "      <td id=\"T_8acad_row6_col8\" class=\"data row6 col8\" >nan</td>\n",
       "      <td id=\"T_8acad_row6_col9\" class=\"data row6 col9\" >nan</td>\n",
       "    </tr>\n",
       "    <tr>\n",
       "      <th id=\"T_8acad_level0_row7\" class=\"row_heading level0 row7\" >7</th>\n",
       "      <td id=\"T_8acad_row7_col0\" class=\"data row7 col0\" >0.003754</td>\n",
       "      <td id=\"T_8acad_row7_col1\" class=\"data row7 col1\" >0.003496</td>\n",
       "      <td id=\"T_8acad_row7_col2\" class=\"data row7 col2\" >1.000000</td>\n",
       "      <td id=\"T_8acad_row7_col3\" class=\"data row7 col3\" >1.000000</td>\n",
       "      <td id=\"T_8acad_row7_col4\" class=\"data row7 col4\" >nan</td>\n",
       "      <td id=\"T_8acad_row7_col5\" class=\"data row7 col5\" >nan</td>\n",
       "      <td id=\"T_8acad_row7_col6\" class=\"data row7 col6\" >nan</td>\n",
       "      <td id=\"T_8acad_row7_col7\" class=\"data row7 col7\" >nan</td>\n",
       "      <td id=\"T_8acad_row7_col8\" class=\"data row7 col8\" >nan</td>\n",
       "      <td id=\"T_8acad_row7_col9\" class=\"data row7 col9\" >nan</td>\n",
       "    </tr>\n",
       "    <tr>\n",
       "      <th id=\"T_8acad_level0_row8\" class=\"row_heading level0 row8\" >8</th>\n",
       "      <td id=\"T_8acad_row8_col0\" class=\"data row8 col0\" >0.003794</td>\n",
       "      <td id=\"T_8acad_row8_col1\" class=\"data row8 col1\" >0.003561</td>\n",
       "      <td id=\"T_8acad_row8_col2\" class=\"data row8 col2\" >1.000000</td>\n",
       "      <td id=\"T_8acad_row8_col3\" class=\"data row8 col3\" >1.000000</td>\n",
       "      <td id=\"T_8acad_row8_col4\" class=\"data row8 col4\" >nan</td>\n",
       "      <td id=\"T_8acad_row8_col5\" class=\"data row8 col5\" >nan</td>\n",
       "      <td id=\"T_8acad_row8_col6\" class=\"data row8 col6\" >nan</td>\n",
       "      <td id=\"T_8acad_row8_col7\" class=\"data row8 col7\" >nan</td>\n",
       "      <td id=\"T_8acad_row8_col8\" class=\"data row8 col8\" >nan</td>\n",
       "      <td id=\"T_8acad_row8_col9\" class=\"data row8 col9\" >nan</td>\n",
       "    </tr>\n",
       "    <tr>\n",
       "      <th id=\"T_8acad_level0_row9\" class=\"row_heading level0 row9\" >9</th>\n",
       "      <td id=\"T_8acad_row9_col0\" class=\"data row9 col0\" >0.003457</td>\n",
       "      <td id=\"T_8acad_row9_col1\" class=\"data row9 col1\" >0.003316</td>\n",
       "      <td id=\"T_8acad_row9_col2\" class=\"data row9 col2\" >0.988095</td>\n",
       "      <td id=\"T_8acad_row9_col3\" class=\"data row9 col3\" >1.000000</td>\n",
       "      <td id=\"T_8acad_row9_col4\" class=\"data row9 col4\" >nan</td>\n",
       "      <td id=\"T_8acad_row9_col5\" class=\"data row9 col5\" >nan</td>\n",
       "      <td id=\"T_8acad_row9_col6\" class=\"data row9 col6\" >nan</td>\n",
       "      <td id=\"T_8acad_row9_col7\" class=\"data row9 col7\" >nan</td>\n",
       "      <td id=\"T_8acad_row9_col8\" class=\"data row9 col8\" >nan</td>\n",
       "      <td id=\"T_8acad_row9_col9\" class=\"data row9 col9\" >nan</td>\n",
       "    </tr>\n",
       "  </tbody>\n",
       "</table>\n"
      ],
      "text/plain": [
       "<pandas.io.formats.style.Styler at 0x1773a2150>"
      ]
     },
     "execution_count": 41,
     "metadata": {},
     "output_type": "execute_result"
    }
   ],
   "source": [
    "# Pipeline creates DecisionTreeClassifier and cross validates with X_train and y_train data. Returns scoring.\n",
    "dt_milk_pipe = make_pipeline(preprocessor, DecisionTreeClassifier(random_state=2025))\n",
    "\n",
    "dt_milk = pd.DataFrame(\n",
    "    cross_validate(\n",
    "        dt_milk_pipe, X_train, y_train, cv=10, return_train_score=True, scoring=scoring\n",
    "    )\n",
    ")\n",
    "\n",
    "dt_milk.style.set_caption(\n",
    "    \"Table #. Scores from DecisionTreeClassifier\"\n",
    ").set_table_styles(styles)"
   ]
  },
  {
   "cell_type": "code",
   "execution_count": 20,
   "metadata": {},
   "outputs": [
    {
     "data": {
      "text/plain": [
       "fit_time       0.005679\n",
       "score_time     0.002479\n",
       "test_score     0.997633\n",
       "train_score    1.000000\n",
       "dtype: float64"
      ]
     },
     "execution_count": 20,
     "metadata": {},
     "output_type": "execute_result"
    }
   ],
   "source": [
    "# Returns mean fit times and mean accuracy, precision, recall and f1 scores\n",
    "dt_mean = dt_milk.mean()\n",
    "dt_mean"
   ]
  },
  {
   "cell_type": "code",
   "execution_count": 21,
   "metadata": {},
   "outputs": [
    {
     "data": {
      "text/html": [
       "<style type=\"text/css\">\n",
       "#T_632af caption {\n",
       "  font-size: 120%;\n",
       "  font-weight: bold;\n",
       "}\n",
       "</style>\n",
       "<table id=\"T_632af\">\n",
       "  <caption>Table #. Scores from KNeighborsClassifier</caption>\n",
       "  <thead>\n",
       "    <tr>\n",
       "      <th class=\"blank level0\" >&nbsp;</th>\n",
       "      <th id=\"T_632af_level0_col0\" class=\"col_heading level0 col0\" >fit_time</th>\n",
       "      <th id=\"T_632af_level0_col1\" class=\"col_heading level0 col1\" >score_time</th>\n",
       "      <th id=\"T_632af_level0_col2\" class=\"col_heading level0 col2\" >test_score</th>\n",
       "      <th id=\"T_632af_level0_col3\" class=\"col_heading level0 col3\" >train_score</th>\n",
       "    </tr>\n",
       "  </thead>\n",
       "  <tbody>\n",
       "    <tr>\n",
       "      <th id=\"T_632af_level0_row0\" class=\"row_heading level0 row0\" >0</th>\n",
       "      <td id=\"T_632af_row0_col0\" class=\"data row0 col0\" >0.026491</td>\n",
       "      <td id=\"T_632af_row0_col1\" class=\"data row0 col1\" >0.006599</td>\n",
       "      <td id=\"T_632af_row0_col2\" class=\"data row0 col2\" >0.988235</td>\n",
       "      <td id=\"T_632af_row0_col3\" class=\"data row0 col3\" >0.996063</td>\n",
       "    </tr>\n",
       "    <tr>\n",
       "      <th id=\"T_632af_level0_row1\" class=\"row_heading level0 row1\" >1</th>\n",
       "      <td id=\"T_632af_row1_col0\" class=\"data row1 col0\" >0.004718</td>\n",
       "      <td id=\"T_632af_row1_col1\" class=\"data row1 col1\" >0.004542</td>\n",
       "      <td id=\"T_632af_row1_col2\" class=\"data row1 col2\" >0.988235</td>\n",
       "      <td id=\"T_632af_row1_col3\" class=\"data row1 col3\" >0.996063</td>\n",
       "    </tr>\n",
       "    <tr>\n",
       "      <th id=\"T_632af_level0_row2\" class=\"row_heading level0 row2\" >2</th>\n",
       "      <td id=\"T_632af_row2_col0\" class=\"data row2 col0\" >0.003666</td>\n",
       "      <td id=\"T_632af_row2_col1\" class=\"data row2 col1\" >0.003756</td>\n",
       "      <td id=\"T_632af_row2_col2\" class=\"data row2 col2\" >0.976471</td>\n",
       "      <td id=\"T_632af_row2_col3\" class=\"data row2 col3\" >0.992126</td>\n",
       "    </tr>\n",
       "    <tr>\n",
       "      <th id=\"T_632af_level0_row3\" class=\"row_heading level0 row3\" >3</th>\n",
       "      <td id=\"T_632af_row3_col0\" class=\"data row3 col0\" >0.003589</td>\n",
       "      <td id=\"T_632af_row3_col1\" class=\"data row3 col1\" >0.003825</td>\n",
       "      <td id=\"T_632af_row3_col2\" class=\"data row3 col2\" >1.000000</td>\n",
       "      <td id=\"T_632af_row3_col3\" class=\"data row3 col3\" >0.994751</td>\n",
       "    </tr>\n",
       "    <tr>\n",
       "      <th id=\"T_632af_level0_row4\" class=\"row_heading level0 row4\" >4</th>\n",
       "      <td id=\"T_632af_row4_col0\" class=\"data row4 col0\" >0.003268</td>\n",
       "      <td id=\"T_632af_row4_col1\" class=\"data row4 col1\" >0.003404</td>\n",
       "      <td id=\"T_632af_row4_col2\" class=\"data row4 col2\" >1.000000</td>\n",
       "      <td id=\"T_632af_row4_col3\" class=\"data row4 col3\" >0.994751</td>\n",
       "    </tr>\n",
       "    <tr>\n",
       "      <th id=\"T_632af_level0_row5\" class=\"row_heading level0 row5\" >5</th>\n",
       "      <td id=\"T_632af_row5_col0\" class=\"data row5 col0\" >0.003559</td>\n",
       "      <td id=\"T_632af_row5_col1\" class=\"data row5 col1\" >0.003611</td>\n",
       "      <td id=\"T_632af_row5_col2\" class=\"data row5 col2\" >1.000000</td>\n",
       "      <td id=\"T_632af_row5_col3\" class=\"data row5 col3\" >0.994751</td>\n",
       "    </tr>\n",
       "    <tr>\n",
       "      <th id=\"T_632af_level0_row6\" class=\"row_heading level0 row6\" >6</th>\n",
       "      <td id=\"T_632af_row6_col0\" class=\"data row6 col0\" >0.003209</td>\n",
       "      <td id=\"T_632af_row6_col1\" class=\"data row6 col1\" >0.003409</td>\n",
       "      <td id=\"T_632af_row6_col2\" class=\"data row6 col2\" >1.000000</td>\n",
       "      <td id=\"T_632af_row6_col3\" class=\"data row6 col3\" >0.994751</td>\n",
       "    </tr>\n",
       "    <tr>\n",
       "      <th id=\"T_632af_level0_row7\" class=\"row_heading level0 row7\" >7</th>\n",
       "      <td id=\"T_632af_row7_col0\" class=\"data row7 col0\" >0.003052</td>\n",
       "      <td id=\"T_632af_row7_col1\" class=\"data row7 col1\" >0.003412</td>\n",
       "      <td id=\"T_632af_row7_col2\" class=\"data row7 col2\" >0.988095</td>\n",
       "      <td id=\"T_632af_row7_col3\" class=\"data row7 col3\" >0.996068</td>\n",
       "    </tr>\n",
       "    <tr>\n",
       "      <th id=\"T_632af_level0_row8\" class=\"row_heading level0 row8\" >8</th>\n",
       "      <td id=\"T_632af_row8_col0\" class=\"data row8 col0\" >0.003203</td>\n",
       "      <td id=\"T_632af_row8_col1\" class=\"data row8 col1\" >0.003368</td>\n",
       "      <td id=\"T_632af_row8_col2\" class=\"data row8 col2\" >1.000000</td>\n",
       "      <td id=\"T_632af_row8_col3\" class=\"data row8 col3\" >0.994758</td>\n",
       "    </tr>\n",
       "    <tr>\n",
       "      <th id=\"T_632af_level0_row9\" class=\"row_heading level0 row9\" >9</th>\n",
       "      <td id=\"T_632af_row9_col0\" class=\"data row9 col0\" >0.003418</td>\n",
       "      <td id=\"T_632af_row9_col1\" class=\"data row9 col1\" >0.003508</td>\n",
       "      <td id=\"T_632af_row9_col2\" class=\"data row9 col2\" >0.988095</td>\n",
       "      <td id=\"T_632af_row9_col3\" class=\"data row9 col3\" >0.996068</td>\n",
       "    </tr>\n",
       "  </tbody>\n",
       "</table>\n"
      ],
      "text/plain": [
       "<pandas.io.formats.style.Styler at 0x1750d6120>"
      ]
     },
     "execution_count": 21,
     "metadata": {},
     "output_type": "execute_result"
    }
   ],
   "source": [
    "# Pipeline creates KNeighborsClassifer and cross validates with X_train and y_train. Returns scoring.\n",
    "knn_milk_pipe = make_pipeline(preprocessor, KNeighborsClassifier())\n",
    "knn_milk = pd.DataFrame(\n",
    "    cross_validate(\n",
    "        knn_milk_pipe, X_train, y_train, cv=10, return_train_score=True, scoring='accuracy'\n",
    "    )\n",
    ")\n",
    "knn_milk.style.set_caption(\n",
    "    \"Table #. Scores from KNeighborsClassifier\"\n",
    ").set_table_styles(styles)"
   ]
  },
  {
   "cell_type": "code",
   "execution_count": 22,
   "metadata": {},
   "outputs": [
    {
     "data": {
      "text/plain": [
       "fit_time       0.005817\n",
       "score_time     0.003943\n",
       "test_score     0.992913\n",
       "train_score    0.995015\n",
       "dtype: float64"
      ]
     },
     "execution_count": 22,
     "metadata": {},
     "output_type": "execute_result"
    }
   ],
   "source": [
    "# Returns mean fit times and mean accuracy, precision, recall and f1 scores\n",
    "knn_mean = knn_milk.mean()\n",
    "knn_mean"
   ]
  },
  {
   "cell_type": "code",
   "execution_count": 23,
   "metadata": {},
   "outputs": [
    {
     "data": {
      "text/html": [
       "<style type=\"text/css\">\n",
       "#T_40ecd caption {\n",
       "  font-size: 120%;\n",
       "  font-weight: bold;\n",
       "}\n",
       "</style>\n",
       "<table id=\"T_40ecd\">\n",
       "  <caption>Table #. Scores from LogisticRegression</caption>\n",
       "  <thead>\n",
       "    <tr>\n",
       "      <th class=\"blank level0\" >&nbsp;</th>\n",
       "      <th id=\"T_40ecd_level0_col0\" class=\"col_heading level0 col0\" >fit_time</th>\n",
       "      <th id=\"T_40ecd_level0_col1\" class=\"col_heading level0 col1\" >score_time</th>\n",
       "      <th id=\"T_40ecd_level0_col2\" class=\"col_heading level0 col2\" >test_score</th>\n",
       "      <th id=\"T_40ecd_level0_col3\" class=\"col_heading level0 col3\" >train_score</th>\n",
       "    </tr>\n",
       "  </thead>\n",
       "  <tbody>\n",
       "    <tr>\n",
       "      <th id=\"T_40ecd_level0_row0\" class=\"row_heading level0 row0\" >0</th>\n",
       "      <td id=\"T_40ecd_row0_col0\" class=\"data row0 col0\" >0.023487</td>\n",
       "      <td id=\"T_40ecd_row0_col1\" class=\"data row0 col1\" >0.003009</td>\n",
       "      <td id=\"T_40ecd_row0_col2\" class=\"data row0 col2\" >0.823529</td>\n",
       "      <td id=\"T_40ecd_row0_col3\" class=\"data row0 col3\" >0.847769</td>\n",
       "    </tr>\n",
       "    <tr>\n",
       "      <th id=\"T_40ecd_level0_row1\" class=\"row_heading level0 row1\" >1</th>\n",
       "      <td id=\"T_40ecd_row1_col0\" class=\"data row1 col0\" >0.009346</td>\n",
       "      <td id=\"T_40ecd_row1_col1\" class=\"data row1 col1\" >0.002735</td>\n",
       "      <td id=\"T_40ecd_row1_col2\" class=\"data row1 col2\" >0.811765</td>\n",
       "      <td id=\"T_40ecd_row1_col3\" class=\"data row1 col3\" >0.853018</td>\n",
       "    </tr>\n",
       "    <tr>\n",
       "      <th id=\"T_40ecd_level0_row2\" class=\"row_heading level0 row2\" >2</th>\n",
       "      <td id=\"T_40ecd_row2_col0\" class=\"data row2 col0\" >0.009256</td>\n",
       "      <td id=\"T_40ecd_row2_col1\" class=\"data row2 col1\" >0.002993</td>\n",
       "      <td id=\"T_40ecd_row2_col2\" class=\"data row2 col2\" >0.823529</td>\n",
       "      <td id=\"T_40ecd_row2_col3\" class=\"data row2 col3\" >0.847769</td>\n",
       "    </tr>\n",
       "    <tr>\n",
       "      <th id=\"T_40ecd_level0_row3\" class=\"row_heading level0 row3\" >3</th>\n",
       "      <td id=\"T_40ecd_row3_col0\" class=\"data row3 col0\" >0.008461</td>\n",
       "      <td id=\"T_40ecd_row3_col1\" class=\"data row3 col1\" >0.002236</td>\n",
       "      <td id=\"T_40ecd_row3_col2\" class=\"data row3 col2\" >0.811765</td>\n",
       "      <td id=\"T_40ecd_row3_col3\" class=\"data row3 col3\" >0.853018</td>\n",
       "    </tr>\n",
       "    <tr>\n",
       "      <th id=\"T_40ecd_level0_row4\" class=\"row_heading level0 row4\" >4</th>\n",
       "      <td id=\"T_40ecd_row4_col0\" class=\"data row4 col0\" >0.007222</td>\n",
       "      <td id=\"T_40ecd_row4_col1\" class=\"data row4 col1\" >0.002004</td>\n",
       "      <td id=\"T_40ecd_row4_col2\" class=\"data row4 col2\" >0.835294</td>\n",
       "      <td id=\"T_40ecd_row4_col3\" class=\"data row4 col3\" >0.850394</td>\n",
       "    </tr>\n",
       "    <tr>\n",
       "      <th id=\"T_40ecd_level0_row5\" class=\"row_heading level0 row5\" >5</th>\n",
       "      <td id=\"T_40ecd_row5_col0\" class=\"data row5 col0\" >0.006755</td>\n",
       "      <td id=\"T_40ecd_row5_col1\" class=\"data row5 col1\" >0.001892</td>\n",
       "      <td id=\"T_40ecd_row5_col2\" class=\"data row5 col2\" >0.917647</td>\n",
       "      <td id=\"T_40ecd_row5_col3\" class=\"data row5 col3\" >0.837270</td>\n",
       "    </tr>\n",
       "    <tr>\n",
       "      <th id=\"T_40ecd_level0_row6\" class=\"row_heading level0 row6\" >6</th>\n",
       "      <td id=\"T_40ecd_row6_col0\" class=\"data row6 col0\" >0.007083</td>\n",
       "      <td id=\"T_40ecd_row6_col1\" class=\"data row6 col1\" >0.001919</td>\n",
       "      <td id=\"T_40ecd_row6_col2\" class=\"data row6 col2\" >0.858824</td>\n",
       "      <td id=\"T_40ecd_row6_col3\" class=\"data row6 col3\" >0.843832</td>\n",
       "    </tr>\n",
       "    <tr>\n",
       "      <th id=\"T_40ecd_level0_row7\" class=\"row_heading level0 row7\" >7</th>\n",
       "      <td id=\"T_40ecd_row7_col0\" class=\"data row7 col0\" >0.006351</td>\n",
       "      <td id=\"T_40ecd_row7_col1\" class=\"data row7 col1\" >0.001809</td>\n",
       "      <td id=\"T_40ecd_row7_col2\" class=\"data row7 col2\" >0.833333</td>\n",
       "      <td id=\"T_40ecd_row7_col3\" class=\"data row7 col3\" >0.846658</td>\n",
       "    </tr>\n",
       "    <tr>\n",
       "      <th id=\"T_40ecd_level0_row8\" class=\"row_heading level0 row8\" >8</th>\n",
       "      <td id=\"T_40ecd_row8_col0\" class=\"data row8 col0\" >0.006785</td>\n",
       "      <td id=\"T_40ecd_row8_col1\" class=\"data row8 col1\" >0.001923</td>\n",
       "      <td id=\"T_40ecd_row8_col2\" class=\"data row8 col2\" >0.892857</td>\n",
       "      <td id=\"T_40ecd_row8_col3\" class=\"data row8 col3\" >0.844037</td>\n",
       "    </tr>\n",
       "    <tr>\n",
       "      <th id=\"T_40ecd_level0_row9\" class=\"row_heading level0 row9\" >9</th>\n",
       "      <td id=\"T_40ecd_row9_col0\" class=\"data row9 col0\" >0.006633</td>\n",
       "      <td id=\"T_40ecd_row9_col1\" class=\"data row9 col1\" >0.002225</td>\n",
       "      <td id=\"T_40ecd_row9_col2\" class=\"data row9 col2\" >0.857143</td>\n",
       "      <td id=\"T_40ecd_row9_col3\" class=\"data row9 col3\" >0.844037</td>\n",
       "    </tr>\n",
       "  </tbody>\n",
       "</table>\n"
      ],
      "text/plain": [
       "<pandas.io.formats.style.Styler at 0x1750d58b0>"
      ]
     },
     "execution_count": 23,
     "metadata": {},
     "output_type": "execute_result"
    }
   ],
   "source": [
    "# Pipeline creates unbalanced LogisticRegression and cross validates with X_train and y_train. Returns scoring.\n",
    "lr_milk_pipe = make_pipeline(preprocessor, LogisticRegression(random_state=2025))\n",
    "lr_milk = pd.DataFrame(\n",
    "    cross_validate(\n",
    "        lr_milk_pipe, X_train, y_train, cv=10, return_train_score=True, scoring='accuracy'\n",
    "    )\n",
    ")\n",
    "lr_milk.style.set_caption(\"Table #. Scores from LogisticRegression\").set_table_styles(\n",
    "    styles\n",
    ")"
   ]
  },
  {
   "cell_type": "code",
   "execution_count": 24,
   "metadata": {},
   "outputs": [
    {
     "data": {
      "text/plain": [
       "fit_time       0.009138\n",
       "score_time     0.002275\n",
       "test_score     0.846569\n",
       "train_score    0.846780\n",
       "dtype: float64"
      ]
     },
     "execution_count": 24,
     "metadata": {},
     "output_type": "execute_result"
    }
   ],
   "source": [
    "# Returns mean fit times and mean accuracy, precision, recall and f1 scores\n",
    "lr_mean = lr_milk.mean()\n",
    "lr_mean"
   ]
  },
  {
   "cell_type": "markdown",
   "metadata": {},
   "source": [
    "Incorporation of`class_weight=\"balanced\"` into`LogisticRegression` model will handle the slight class imbalance previously noted."
   ]
  },
  {
   "cell_type": "code",
   "execution_count": 25,
   "metadata": {},
   "outputs": [
    {
     "data": {
      "text/plain": [
       "fit_time       0.010003\n",
       "score_time     0.002599\n",
       "test_score     0.840675\n",
       "train_score    0.843573\n",
       "dtype: float64"
      ]
     },
     "execution_count": 25,
     "metadata": {},
     "output_type": "execute_result"
    }
   ],
   "source": [
    "# Pipeline creates balanced LogisticRegression and cross validates with X_train and y_train. Returns mean scoring.\n",
    "balanced_lr_milk_pipe = make_pipeline(\n",
    "    preprocessor, LogisticRegression(class_weight=\"balanced\", random_state=2025)\n",
    ")\n",
    "balanced_milk = pd.DataFrame(\n",
    "    cross_validate(\n",
    "        balanced_lr_milk_pipe,\n",
    "        X_train,\n",
    "        y_train,\n",
    "        return_train_score=True,\n",
    "        scoring='accuracy',\n",
    "    )\n",
    ")\n",
    "balanced_mean = balanced_milk.mean()\n",
    "balanced_mean"
   ]
  },
  {
   "cell_type": "markdown",
   "metadata": {},
   "source": [
    "#### **Need to fix hyperparameters below:**"
   ]
  },
  {
   "cell_type": "code",
   "execution_count": 26,
   "metadata": {},
   "outputs": [
    {
     "name": "stdout",
     "output_type": "stream",
     "text": [
      "Best parameters: {'logisticregression__penalty': 'l2', 'logisticregression__max_iter': 4900, 'logisticregression__C': 84}\n",
      "Best score: 0.8371249564914723\n"
     ]
    },
    {
     "name": "stderr",
     "output_type": "stream",
     "text": [
      "/opt/miniconda3/lib/python3.12/site-packages/sklearn/model_selection/_validation.py:528: FitFailedWarning: \n",
      "125 fits failed out of a total of 250.\n",
      "The score on these train-test partitions for these parameters will be set to nan.\n",
      "If these failures are not expected, you can try to debug them by setting error_score='raise'.\n",
      "\n",
      "Below are more details about the failures:\n",
      "--------------------------------------------------------------------------------\n",
      "42 fits failed with the following error:\n",
      "Traceback (most recent call last):\n",
      "  File \"/opt/miniconda3/lib/python3.12/site-packages/sklearn/model_selection/_validation.py\", line 866, in _fit_and_score\n",
      "    estimator.fit(X_train, y_train, **fit_params)\n",
      "  File \"/opt/miniconda3/lib/python3.12/site-packages/sklearn/base.py\", line 1389, in wrapper\n",
      "    return fit_method(estimator, *args, **kwargs)\n",
      "           ^^^^^^^^^^^^^^^^^^^^^^^^^^^^^^^^^^^^^^\n",
      "  File \"/opt/miniconda3/lib/python3.12/site-packages/sklearn/pipeline.py\", line 660, in fit\n",
      "    self._final_estimator.fit(Xt, y, **last_step_params[\"fit\"])\n",
      "  File \"/opt/miniconda3/lib/python3.12/site-packages/sklearn/base.py\", line 1382, in wrapper\n",
      "    estimator._validate_params()\n",
      "  File \"/opt/miniconda3/lib/python3.12/site-packages/sklearn/base.py\", line 436, in _validate_params\n",
      "    validate_parameter_constraints(\n",
      "  File \"/opt/miniconda3/lib/python3.12/site-packages/sklearn/utils/_param_validation.py\", line 98, in validate_parameter_constraints\n",
      "    raise InvalidParameterError(\n",
      "sklearn.utils._param_validation.InvalidParameterError: The 'penalty' parameter of LogisticRegression must be a str among {'l2', 'l1', 'elasticnet'} or None. Got 'none' instead.\n",
      "\n",
      "--------------------------------------------------------------------------------\n",
      "19 fits failed with the following error:\n",
      "Traceback (most recent call last):\n",
      "  File \"/opt/miniconda3/lib/python3.12/site-packages/sklearn/model_selection/_validation.py\", line 866, in _fit_and_score\n",
      "    estimator.fit(X_train, y_train, **fit_params)\n",
      "  File \"/opt/miniconda3/lib/python3.12/site-packages/sklearn/base.py\", line 1389, in wrapper\n",
      "    return fit_method(estimator, *args, **kwargs)\n",
      "           ^^^^^^^^^^^^^^^^^^^^^^^^^^^^^^^^^^^^^^\n",
      "  File \"/opt/miniconda3/lib/python3.12/site-packages/sklearn/pipeline.py\", line 660, in fit\n",
      "    self._final_estimator.fit(Xt, y, **last_step_params[\"fit\"])\n",
      "  File \"/opt/miniconda3/lib/python3.12/site-packages/sklearn/base.py\", line 1382, in wrapper\n",
      "    estimator._validate_params()\n",
      "  File \"/opt/miniconda3/lib/python3.12/site-packages/sklearn/base.py\", line 436, in _validate_params\n",
      "    validate_parameter_constraints(\n",
      "  File \"/opt/miniconda3/lib/python3.12/site-packages/sklearn/utils/_param_validation.py\", line 98, in validate_parameter_constraints\n",
      "    raise InvalidParameterError(\n",
      "sklearn.utils._param_validation.InvalidParameterError: The 'penalty' parameter of LogisticRegression must be a str among {'l1', 'l2', 'elasticnet'} or None. Got 'none' instead.\n",
      "\n",
      "--------------------------------------------------------------------------------\n",
      "18 fits failed with the following error:\n",
      "Traceback (most recent call last):\n",
      "  File \"/opt/miniconda3/lib/python3.12/site-packages/sklearn/model_selection/_validation.py\", line 866, in _fit_and_score\n",
      "    estimator.fit(X_train, y_train, **fit_params)\n",
      "  File \"/opt/miniconda3/lib/python3.12/site-packages/sklearn/base.py\", line 1389, in wrapper\n",
      "    return fit_method(estimator, *args, **kwargs)\n",
      "           ^^^^^^^^^^^^^^^^^^^^^^^^^^^^^^^^^^^^^^\n",
      "  File \"/opt/miniconda3/lib/python3.12/site-packages/sklearn/pipeline.py\", line 660, in fit\n",
      "    self._final_estimator.fit(Xt, y, **last_step_params[\"fit\"])\n",
      "  File \"/opt/miniconda3/lib/python3.12/site-packages/sklearn/base.py\", line 1382, in wrapper\n",
      "    estimator._validate_params()\n",
      "  File \"/opt/miniconda3/lib/python3.12/site-packages/sklearn/base.py\", line 436, in _validate_params\n",
      "    validate_parameter_constraints(\n",
      "  File \"/opt/miniconda3/lib/python3.12/site-packages/sklearn/utils/_param_validation.py\", line 98, in validate_parameter_constraints\n",
      "    raise InvalidParameterError(\n",
      "sklearn.utils._param_validation.InvalidParameterError: The 'penalty' parameter of LogisticRegression must be a str among {'elasticnet', 'l2', 'l1'} or None. Got 'none' instead.\n",
      "\n",
      "--------------------------------------------------------------------------------\n",
      "26 fits failed with the following error:\n",
      "Traceback (most recent call last):\n",
      "  File \"/opt/miniconda3/lib/python3.12/site-packages/sklearn/model_selection/_validation.py\", line 866, in _fit_and_score\n",
      "    estimator.fit(X_train, y_train, **fit_params)\n",
      "  File \"/opt/miniconda3/lib/python3.12/site-packages/sklearn/base.py\", line 1389, in wrapper\n",
      "    return fit_method(estimator, *args, **kwargs)\n",
      "           ^^^^^^^^^^^^^^^^^^^^^^^^^^^^^^^^^^^^^^\n",
      "  File \"/opt/miniconda3/lib/python3.12/site-packages/sklearn/pipeline.py\", line 660, in fit\n",
      "    self._final_estimator.fit(Xt, y, **last_step_params[\"fit\"])\n",
      "  File \"/opt/miniconda3/lib/python3.12/site-packages/sklearn/base.py\", line 1382, in wrapper\n",
      "    estimator._validate_params()\n",
      "  File \"/opt/miniconda3/lib/python3.12/site-packages/sklearn/base.py\", line 436, in _validate_params\n",
      "    validate_parameter_constraints(\n",
      "  File \"/opt/miniconda3/lib/python3.12/site-packages/sklearn/utils/_param_validation.py\", line 98, in validate_parameter_constraints\n",
      "    raise InvalidParameterError(\n",
      "sklearn.utils._param_validation.InvalidParameterError: The 'penalty' parameter of LogisticRegression must be a str among {'l1', 'elasticnet', 'l2'} or None. Got 'none' instead.\n",
      "\n",
      "--------------------------------------------------------------------------------\n",
      "20 fits failed with the following error:\n",
      "Traceback (most recent call last):\n",
      "  File \"/opt/miniconda3/lib/python3.12/site-packages/sklearn/model_selection/_validation.py\", line 866, in _fit_and_score\n",
      "    estimator.fit(X_train, y_train, **fit_params)\n",
      "  File \"/opt/miniconda3/lib/python3.12/site-packages/sklearn/base.py\", line 1389, in wrapper\n",
      "    return fit_method(estimator, *args, **kwargs)\n",
      "           ^^^^^^^^^^^^^^^^^^^^^^^^^^^^^^^^^^^^^^\n",
      "  File \"/opt/miniconda3/lib/python3.12/site-packages/sklearn/pipeline.py\", line 660, in fit\n",
      "    self._final_estimator.fit(Xt, y, **last_step_params[\"fit\"])\n",
      "  File \"/opt/miniconda3/lib/python3.12/site-packages/sklearn/base.py\", line 1382, in wrapper\n",
      "    estimator._validate_params()\n",
      "  File \"/opt/miniconda3/lib/python3.12/site-packages/sklearn/base.py\", line 436, in _validate_params\n",
      "    validate_parameter_constraints(\n",
      "  File \"/opt/miniconda3/lib/python3.12/site-packages/sklearn/utils/_param_validation.py\", line 98, in validate_parameter_constraints\n",
      "    raise InvalidParameterError(\n",
      "sklearn.utils._param_validation.InvalidParameterError: The 'penalty' parameter of LogisticRegression must be a str among {'elasticnet', 'l1', 'l2'} or None. Got 'none' instead.\n",
      "\n",
      "  warnings.warn(some_fits_failed_message, FitFailedWarning)\n"
     ]
    }
   ],
   "source": [
    "# Tunes LogisticRegression hyperparameters max_iter, C, and penalty\n",
    "\n",
    "param_grid = {\n",
    "    \"logisticregression__max_iter\": np.arange(1000, 5000, 100),\n",
    "    \"logisticregression__C\": np.arange(1, 100, 1),\n",
    "    \"logisticregression__penalty\": [\"l2\", \"none\"],\n",
    "}\n",
    "\n",
    "lr_milk_search = RandomizedSearchCV(\n",
    "    balanced_lr_milk_pipe,\n",
    "    param_grid,\n",
    "    cv=5,\n",
    "    return_train_score=True,\n",
    "    n_jobs=-1,\n",
    "    n_iter=50,\n",
    "    scoring=\"accuracy\",\n",
    "    random_state=2025,\n",
    ")\n",
    "lr_milk_search.fit(X_train, y_train)\n",
    "best_params = lr_milk_search.best_params_\n",
    "best_lr_score = lr_milk_search.best_score_\n",
    "print(\"Best parameters:\", best_params)\n",
    "print(\"Best score:\", best_lr_score)"
   ]
  },
  {
   "cell_type": "code",
   "execution_count": 27,
   "metadata": {},
   "outputs": [
    {
     "data": {
      "text/html": [
       "<style type=\"text/css\">\n",
       "#T_75839 caption {\n",
       "  font-size: 120%;\n",
       "  font-weight: bold;\n",
       "}\n",
       "</style>\n",
       "<table id=\"T_75839\">\n",
       "  <caption>Table #. Mean Test Scores Associated with C Hyperparameter in Descending Order</caption>\n",
       "  <thead>\n",
       "    <tr>\n",
       "      <th class=\"blank level0\" >&nbsp;</th>\n",
       "      <th id=\"T_75839_level0_col0\" class=\"col_heading level0 col0\" >mean_test_score</th>\n",
       "      <th id=\"T_75839_level0_col1\" class=\"col_heading level0 col1\" >param_logisticregression__C</th>\n",
       "    </tr>\n",
       "  </thead>\n",
       "  <tbody>\n",
       "    <tr>\n",
       "      <th id=\"T_75839_level0_row0\" class=\"row_heading level0 row0\" >0</th>\n",
       "      <td id=\"T_75839_row0_col0\" class=\"data row0 col0\" >0.837125</td>\n",
       "      <td id=\"T_75839_row0_col1\" class=\"data row0 col1\" >84</td>\n",
       "    </tr>\n",
       "    <tr>\n",
       "      <th id=\"T_75839_level0_row1\" class=\"row_heading level0 row1\" >10</th>\n",
       "      <td id=\"T_75839_row1_col0\" class=\"data row1 col0\" >0.837125</td>\n",
       "      <td id=\"T_75839_row1_col1\" class=\"data row1 col1\" >45</td>\n",
       "    </tr>\n",
       "    <tr>\n",
       "      <th id=\"T_75839_level0_row2\" class=\"row_heading level0 row2\" >28</th>\n",
       "      <td id=\"T_75839_row2_col0\" class=\"data row2 col0\" >0.837125</td>\n",
       "      <td id=\"T_75839_row2_col1\" class=\"data row2 col1\" >83</td>\n",
       "    </tr>\n",
       "    <tr>\n",
       "      <th id=\"T_75839_level0_row3\" class=\"row_heading level0 row3\" >25</th>\n",
       "      <td id=\"T_75839_row3_col0\" class=\"data row3 col0\" >0.837125</td>\n",
       "      <td id=\"T_75839_row3_col1\" class=\"data row3 col1\" >55</td>\n",
       "    </tr>\n",
       "    <tr>\n",
       "      <th id=\"T_75839_level0_row4\" class=\"row_heading level0 row4\" >39</th>\n",
       "      <td id=\"T_75839_row4_col0\" class=\"data row4 col0\" >0.837125</td>\n",
       "      <td id=\"T_75839_row4_col1\" class=\"data row4 col1\" >40</td>\n",
       "    </tr>\n",
       "  </tbody>\n",
       "</table>\n"
      ],
      "text/plain": [
       "<pandas.io.formats.style.Styler at 0x1750d6960>"
      ]
     },
     "execution_count": 27,
     "metadata": {},
     "output_type": "execute_result"
    }
   ],
   "source": [
    "# Accesses mean test scores from C hyperparameter tuning. Compiles into dataframe and sorts scores in descending order\n",
    "search_results = pd.DataFrame(lr_milk_search.cv_results_)[\n",
    "    [\"mean_test_score\", \"param_logisticregression__C\"]\n",
    "]\n",
    "search_results = (\n",
    "    search_results.sort_values(by=\"mean_test_score\", ascending=False).head()\n",
    "    .style.set_caption(\n",
    "        \"Table #. Mean Test Scores Associated with C Hyperparameter in Descending Order\"\n",
    "    )\n",
    "    .set_table_styles(styles)\n",
    ")\n",
    "search_results"
   ]
  },
  {
   "cell_type": "markdown",
   "metadata": {},
   "source": [
    "`best_model` establishes the `.best_estimator_` in order to access Logistic Regression coefficients for interpretation."
   ]
  },
  {
   "cell_type": "code",
   "execution_count": 29,
   "metadata": {},
   "outputs": [
    {
     "data": {
      "text/html": [
       "<style>#sk-container-id-1 {\n",
       "  /* Definition of color scheme common for light and dark mode */\n",
       "  --sklearn-color-text: #000;\n",
       "  --sklearn-color-text-muted: #666;\n",
       "  --sklearn-color-line: gray;\n",
       "  /* Definition of color scheme for unfitted estimators */\n",
       "  --sklearn-color-unfitted-level-0: #fff5e6;\n",
       "  --sklearn-color-unfitted-level-1: #f6e4d2;\n",
       "  --sklearn-color-unfitted-level-2: #ffe0b3;\n",
       "  --sklearn-color-unfitted-level-3: chocolate;\n",
       "  /* Definition of color scheme for fitted estimators */\n",
       "  --sklearn-color-fitted-level-0: #f0f8ff;\n",
       "  --sklearn-color-fitted-level-1: #d4ebff;\n",
       "  --sklearn-color-fitted-level-2: #b3dbfd;\n",
       "  --sklearn-color-fitted-level-3: cornflowerblue;\n",
       "\n",
       "  /* Specific color for light theme */\n",
       "  --sklearn-color-text-on-default-background: var(--sg-text-color, var(--theme-code-foreground, var(--jp-content-font-color1, black)));\n",
       "  --sklearn-color-background: var(--sg-background-color, var(--theme-background, var(--jp-layout-color0, white)));\n",
       "  --sklearn-color-border-box: var(--sg-text-color, var(--theme-code-foreground, var(--jp-content-font-color1, black)));\n",
       "  --sklearn-color-icon: #696969;\n",
       "\n",
       "  @media (prefers-color-scheme: dark) {\n",
       "    /* Redefinition of color scheme for dark theme */\n",
       "    --sklearn-color-text-on-default-background: var(--sg-text-color, var(--theme-code-foreground, var(--jp-content-font-color1, white)));\n",
       "    --sklearn-color-background: var(--sg-background-color, var(--theme-background, var(--jp-layout-color0, #111)));\n",
       "    --sklearn-color-border-box: var(--sg-text-color, var(--theme-code-foreground, var(--jp-content-font-color1, white)));\n",
       "    --sklearn-color-icon: #878787;\n",
       "  }\n",
       "}\n",
       "\n",
       "#sk-container-id-1 {\n",
       "  color: var(--sklearn-color-text);\n",
       "}\n",
       "\n",
       "#sk-container-id-1 pre {\n",
       "  padding: 0;\n",
       "}\n",
       "\n",
       "#sk-container-id-1 input.sk-hidden--visually {\n",
       "  border: 0;\n",
       "  clip: rect(1px 1px 1px 1px);\n",
       "  clip: rect(1px, 1px, 1px, 1px);\n",
       "  height: 1px;\n",
       "  margin: -1px;\n",
       "  overflow: hidden;\n",
       "  padding: 0;\n",
       "  position: absolute;\n",
       "  width: 1px;\n",
       "}\n",
       "\n",
       "#sk-container-id-1 div.sk-dashed-wrapped {\n",
       "  border: 1px dashed var(--sklearn-color-line);\n",
       "  margin: 0 0.4em 0.5em 0.4em;\n",
       "  box-sizing: border-box;\n",
       "  padding-bottom: 0.4em;\n",
       "  background-color: var(--sklearn-color-background);\n",
       "}\n",
       "\n",
       "#sk-container-id-1 div.sk-container {\n",
       "  /* jupyter's `normalize.less` sets `[hidden] { display: none; }`\n",
       "     but bootstrap.min.css set `[hidden] { display: none !important; }`\n",
       "     so we also need the `!important` here to be able to override the\n",
       "     default hidden behavior on the sphinx rendered scikit-learn.org.\n",
       "     See: https://github.com/scikit-learn/scikit-learn/issues/21755 */\n",
       "  display: inline-block !important;\n",
       "  position: relative;\n",
       "}\n",
       "\n",
       "#sk-container-id-1 div.sk-text-repr-fallback {\n",
       "  display: none;\n",
       "}\n",
       "\n",
       "div.sk-parallel-item,\n",
       "div.sk-serial,\n",
       "div.sk-item {\n",
       "  /* draw centered vertical line to link estimators */\n",
       "  background-image: linear-gradient(var(--sklearn-color-text-on-default-background), var(--sklearn-color-text-on-default-background));\n",
       "  background-size: 2px 100%;\n",
       "  background-repeat: no-repeat;\n",
       "  background-position: center center;\n",
       "}\n",
       "\n",
       "/* Parallel-specific style estimator block */\n",
       "\n",
       "#sk-container-id-1 div.sk-parallel-item::after {\n",
       "  content: \"\";\n",
       "  width: 100%;\n",
       "  border-bottom: 2px solid var(--sklearn-color-text-on-default-background);\n",
       "  flex-grow: 1;\n",
       "}\n",
       "\n",
       "#sk-container-id-1 div.sk-parallel {\n",
       "  display: flex;\n",
       "  align-items: stretch;\n",
       "  justify-content: center;\n",
       "  background-color: var(--sklearn-color-background);\n",
       "  position: relative;\n",
       "}\n",
       "\n",
       "#sk-container-id-1 div.sk-parallel-item {\n",
       "  display: flex;\n",
       "  flex-direction: column;\n",
       "}\n",
       "\n",
       "#sk-container-id-1 div.sk-parallel-item:first-child::after {\n",
       "  align-self: flex-end;\n",
       "  width: 50%;\n",
       "}\n",
       "\n",
       "#sk-container-id-1 div.sk-parallel-item:last-child::after {\n",
       "  align-self: flex-start;\n",
       "  width: 50%;\n",
       "}\n",
       "\n",
       "#sk-container-id-1 div.sk-parallel-item:only-child::after {\n",
       "  width: 0;\n",
       "}\n",
       "\n",
       "/* Serial-specific style estimator block */\n",
       "\n",
       "#sk-container-id-1 div.sk-serial {\n",
       "  display: flex;\n",
       "  flex-direction: column;\n",
       "  align-items: center;\n",
       "  background-color: var(--sklearn-color-background);\n",
       "  padding-right: 1em;\n",
       "  padding-left: 1em;\n",
       "}\n",
       "\n",
       "\n",
       "/* Toggleable style: style used for estimator/Pipeline/ColumnTransformer box that is\n",
       "clickable and can be expanded/collapsed.\n",
       "- Pipeline and ColumnTransformer use this feature and define the default style\n",
       "- Estimators will overwrite some part of the style using the `sk-estimator` class\n",
       "*/\n",
       "\n",
       "/* Pipeline and ColumnTransformer style (default) */\n",
       "\n",
       "#sk-container-id-1 div.sk-toggleable {\n",
       "  /* Default theme specific background. It is overwritten whether we have a\n",
       "  specific estimator or a Pipeline/ColumnTransformer */\n",
       "  background-color: var(--sklearn-color-background);\n",
       "}\n",
       "\n",
       "/* Toggleable label */\n",
       "#sk-container-id-1 label.sk-toggleable__label {\n",
       "  cursor: pointer;\n",
       "  display: flex;\n",
       "  width: 100%;\n",
       "  margin-bottom: 0;\n",
       "  padding: 0.5em;\n",
       "  box-sizing: border-box;\n",
       "  text-align: center;\n",
       "  align-items: start;\n",
       "  justify-content: space-between;\n",
       "  gap: 0.5em;\n",
       "}\n",
       "\n",
       "#sk-container-id-1 label.sk-toggleable__label .caption {\n",
       "  font-size: 0.6rem;\n",
       "  font-weight: lighter;\n",
       "  color: var(--sklearn-color-text-muted);\n",
       "}\n",
       "\n",
       "#sk-container-id-1 label.sk-toggleable__label-arrow:before {\n",
       "  /* Arrow on the left of the label */\n",
       "  content: \"▸\";\n",
       "  float: left;\n",
       "  margin-right: 0.25em;\n",
       "  color: var(--sklearn-color-icon);\n",
       "}\n",
       "\n",
       "#sk-container-id-1 label.sk-toggleable__label-arrow:hover:before {\n",
       "  color: var(--sklearn-color-text);\n",
       "}\n",
       "\n",
       "/* Toggleable content - dropdown */\n",
       "\n",
       "#sk-container-id-1 div.sk-toggleable__content {\n",
       "  max-height: 0;\n",
       "  max-width: 0;\n",
       "  overflow: hidden;\n",
       "  text-align: left;\n",
       "  /* unfitted */\n",
       "  background-color: var(--sklearn-color-unfitted-level-0);\n",
       "}\n",
       "\n",
       "#sk-container-id-1 div.sk-toggleable__content.fitted {\n",
       "  /* fitted */\n",
       "  background-color: var(--sklearn-color-fitted-level-0);\n",
       "}\n",
       "\n",
       "#sk-container-id-1 div.sk-toggleable__content pre {\n",
       "  margin: 0.2em;\n",
       "  border-radius: 0.25em;\n",
       "  color: var(--sklearn-color-text);\n",
       "  /* unfitted */\n",
       "  background-color: var(--sklearn-color-unfitted-level-0);\n",
       "}\n",
       "\n",
       "#sk-container-id-1 div.sk-toggleable__content.fitted pre {\n",
       "  /* unfitted */\n",
       "  background-color: var(--sklearn-color-fitted-level-0);\n",
       "}\n",
       "\n",
       "#sk-container-id-1 input.sk-toggleable__control:checked~div.sk-toggleable__content {\n",
       "  /* Expand drop-down */\n",
       "  max-height: 200px;\n",
       "  max-width: 100%;\n",
       "  overflow: auto;\n",
       "}\n",
       "\n",
       "#sk-container-id-1 input.sk-toggleable__control:checked~label.sk-toggleable__label-arrow:before {\n",
       "  content: \"▾\";\n",
       "}\n",
       "\n",
       "/* Pipeline/ColumnTransformer-specific style */\n",
       "\n",
       "#sk-container-id-1 div.sk-label input.sk-toggleable__control:checked~label.sk-toggleable__label {\n",
       "  color: var(--sklearn-color-text);\n",
       "  background-color: var(--sklearn-color-unfitted-level-2);\n",
       "}\n",
       "\n",
       "#sk-container-id-1 div.sk-label.fitted input.sk-toggleable__control:checked~label.sk-toggleable__label {\n",
       "  background-color: var(--sklearn-color-fitted-level-2);\n",
       "}\n",
       "\n",
       "/* Estimator-specific style */\n",
       "\n",
       "/* Colorize estimator box */\n",
       "#sk-container-id-1 div.sk-estimator input.sk-toggleable__control:checked~label.sk-toggleable__label {\n",
       "  /* unfitted */\n",
       "  background-color: var(--sklearn-color-unfitted-level-2);\n",
       "}\n",
       "\n",
       "#sk-container-id-1 div.sk-estimator.fitted input.sk-toggleable__control:checked~label.sk-toggleable__label {\n",
       "  /* fitted */\n",
       "  background-color: var(--sklearn-color-fitted-level-2);\n",
       "}\n",
       "\n",
       "#sk-container-id-1 div.sk-label label.sk-toggleable__label,\n",
       "#sk-container-id-1 div.sk-label label {\n",
       "  /* The background is the default theme color */\n",
       "  color: var(--sklearn-color-text-on-default-background);\n",
       "}\n",
       "\n",
       "/* On hover, darken the color of the background */\n",
       "#sk-container-id-1 div.sk-label:hover label.sk-toggleable__label {\n",
       "  color: var(--sklearn-color-text);\n",
       "  background-color: var(--sklearn-color-unfitted-level-2);\n",
       "}\n",
       "\n",
       "/* Label box, darken color on hover, fitted */\n",
       "#sk-container-id-1 div.sk-label.fitted:hover label.sk-toggleable__label.fitted {\n",
       "  color: var(--sklearn-color-text);\n",
       "  background-color: var(--sklearn-color-fitted-level-2);\n",
       "}\n",
       "\n",
       "/* Estimator label */\n",
       "\n",
       "#sk-container-id-1 div.sk-label label {\n",
       "  font-family: monospace;\n",
       "  font-weight: bold;\n",
       "  display: inline-block;\n",
       "  line-height: 1.2em;\n",
       "}\n",
       "\n",
       "#sk-container-id-1 div.sk-label-container {\n",
       "  text-align: center;\n",
       "}\n",
       "\n",
       "/* Estimator-specific */\n",
       "#sk-container-id-1 div.sk-estimator {\n",
       "  font-family: monospace;\n",
       "  border: 1px dotted var(--sklearn-color-border-box);\n",
       "  border-radius: 0.25em;\n",
       "  box-sizing: border-box;\n",
       "  margin-bottom: 0.5em;\n",
       "  /* unfitted */\n",
       "  background-color: var(--sklearn-color-unfitted-level-0);\n",
       "}\n",
       "\n",
       "#sk-container-id-1 div.sk-estimator.fitted {\n",
       "  /* fitted */\n",
       "  background-color: var(--sklearn-color-fitted-level-0);\n",
       "}\n",
       "\n",
       "/* on hover */\n",
       "#sk-container-id-1 div.sk-estimator:hover {\n",
       "  /* unfitted */\n",
       "  background-color: var(--sklearn-color-unfitted-level-2);\n",
       "}\n",
       "\n",
       "#sk-container-id-1 div.sk-estimator.fitted:hover {\n",
       "  /* fitted */\n",
       "  background-color: var(--sklearn-color-fitted-level-2);\n",
       "}\n",
       "\n",
       "/* Specification for estimator info (e.g. \"i\" and \"?\") */\n",
       "\n",
       "/* Common style for \"i\" and \"?\" */\n",
       "\n",
       ".sk-estimator-doc-link,\n",
       "a:link.sk-estimator-doc-link,\n",
       "a:visited.sk-estimator-doc-link {\n",
       "  float: right;\n",
       "  font-size: smaller;\n",
       "  line-height: 1em;\n",
       "  font-family: monospace;\n",
       "  background-color: var(--sklearn-color-background);\n",
       "  border-radius: 1em;\n",
       "  height: 1em;\n",
       "  width: 1em;\n",
       "  text-decoration: none !important;\n",
       "  margin-left: 0.5em;\n",
       "  text-align: center;\n",
       "  /* unfitted */\n",
       "  border: var(--sklearn-color-unfitted-level-1) 1pt solid;\n",
       "  color: var(--sklearn-color-unfitted-level-1);\n",
       "}\n",
       "\n",
       ".sk-estimator-doc-link.fitted,\n",
       "a:link.sk-estimator-doc-link.fitted,\n",
       "a:visited.sk-estimator-doc-link.fitted {\n",
       "  /* fitted */\n",
       "  border: var(--sklearn-color-fitted-level-1) 1pt solid;\n",
       "  color: var(--sklearn-color-fitted-level-1);\n",
       "}\n",
       "\n",
       "/* On hover */\n",
       "div.sk-estimator:hover .sk-estimator-doc-link:hover,\n",
       ".sk-estimator-doc-link:hover,\n",
       "div.sk-label-container:hover .sk-estimator-doc-link:hover,\n",
       ".sk-estimator-doc-link:hover {\n",
       "  /* unfitted */\n",
       "  background-color: var(--sklearn-color-unfitted-level-3);\n",
       "  color: var(--sklearn-color-background);\n",
       "  text-decoration: none;\n",
       "}\n",
       "\n",
       "div.sk-estimator.fitted:hover .sk-estimator-doc-link.fitted:hover,\n",
       ".sk-estimator-doc-link.fitted:hover,\n",
       "div.sk-label-container:hover .sk-estimator-doc-link.fitted:hover,\n",
       ".sk-estimator-doc-link.fitted:hover {\n",
       "  /* fitted */\n",
       "  background-color: var(--sklearn-color-fitted-level-3);\n",
       "  color: var(--sklearn-color-background);\n",
       "  text-decoration: none;\n",
       "}\n",
       "\n",
       "/* Span, style for the box shown on hovering the info icon */\n",
       ".sk-estimator-doc-link span {\n",
       "  display: none;\n",
       "  z-index: 9999;\n",
       "  position: relative;\n",
       "  font-weight: normal;\n",
       "  right: .2ex;\n",
       "  padding: .5ex;\n",
       "  margin: .5ex;\n",
       "  width: min-content;\n",
       "  min-width: 20ex;\n",
       "  max-width: 50ex;\n",
       "  color: var(--sklearn-color-text);\n",
       "  box-shadow: 2pt 2pt 4pt #999;\n",
       "  /* unfitted */\n",
       "  background: var(--sklearn-color-unfitted-level-0);\n",
       "  border: .5pt solid var(--sklearn-color-unfitted-level-3);\n",
       "}\n",
       "\n",
       ".sk-estimator-doc-link.fitted span {\n",
       "  /* fitted */\n",
       "  background: var(--sklearn-color-fitted-level-0);\n",
       "  border: var(--sklearn-color-fitted-level-3);\n",
       "}\n",
       "\n",
       ".sk-estimator-doc-link:hover span {\n",
       "  display: block;\n",
       "}\n",
       "\n",
       "/* \"?\"-specific style due to the `<a>` HTML tag */\n",
       "\n",
       "#sk-container-id-1 a.estimator_doc_link {\n",
       "  float: right;\n",
       "  font-size: 1rem;\n",
       "  line-height: 1em;\n",
       "  font-family: monospace;\n",
       "  background-color: var(--sklearn-color-background);\n",
       "  border-radius: 1rem;\n",
       "  height: 1rem;\n",
       "  width: 1rem;\n",
       "  text-decoration: none;\n",
       "  /* unfitted */\n",
       "  color: var(--sklearn-color-unfitted-level-1);\n",
       "  border: var(--sklearn-color-unfitted-level-1) 1pt solid;\n",
       "}\n",
       "\n",
       "#sk-container-id-1 a.estimator_doc_link.fitted {\n",
       "  /* fitted */\n",
       "  border: var(--sklearn-color-fitted-level-1) 1pt solid;\n",
       "  color: var(--sklearn-color-fitted-level-1);\n",
       "}\n",
       "\n",
       "/* On hover */\n",
       "#sk-container-id-1 a.estimator_doc_link:hover {\n",
       "  /* unfitted */\n",
       "  background-color: var(--sklearn-color-unfitted-level-3);\n",
       "  color: var(--sklearn-color-background);\n",
       "  text-decoration: none;\n",
       "}\n",
       "\n",
       "#sk-container-id-1 a.estimator_doc_link.fitted:hover {\n",
       "  /* fitted */\n",
       "  background-color: var(--sklearn-color-fitted-level-3);\n",
       "}\n",
       "</style><div id=\"sk-container-id-1\" class=\"sk-top-container\"><div class=\"sk-text-repr-fallback\"><pre>Pipeline(steps=[(&#x27;columntransformer&#x27;,\n",
       "                 ColumnTransformer(remainder=&#x27;passthrough&#x27;,\n",
       "                                   transformers=[(&#x27;pipeline-1&#x27;,\n",
       "                                                  Pipeline(steps=[(&#x27;standardscaler&#x27;,\n",
       "                                                                   StandardScaler())]),\n",
       "                                                  [&#x27;pH&#x27;, &#x27;Temperature&#x27;,\n",
       "                                                   &#x27;Colour&#x27;]),\n",
       "                                                 (&#x27;pipeline-2&#x27;,\n",
       "                                                  Pipeline(steps=[(&#x27;onehotencoder&#x27;,\n",
       "                                                                   OneHotEncoder(dtype=&lt;class &#x27;int&#x27;&gt;,\n",
       "                                                                                 handle_unknown=&#x27;ignore&#x27;))]),\n",
       "                                                  [&#x27;Taste&#x27;, &#x27;Odor&#x27;, &#x27;Fat&#x27;,\n",
       "                                                   &#x27;Turbidity&#x27;])])),\n",
       "                (&#x27;logisticregression&#x27;,\n",
       "                 LogisticRegression(C=84, class_weight=&#x27;balanced&#x27;,\n",
       "                                    max_iter=4900, random_state=2025))])</pre><b>In a Jupyter environment, please rerun this cell to show the HTML representation or trust the notebook. <br />On GitHub, the HTML representation is unable to render, please try loading this page with nbviewer.org.</b></div><div class=\"sk-container\" hidden><div class=\"sk-item sk-dashed-wrapped\"><div class=\"sk-label-container\"><div class=\"sk-label fitted sk-toggleable\"><input class=\"sk-toggleable__control sk-hidden--visually\" id=\"sk-estimator-id-1\" type=\"checkbox\" ><label for=\"sk-estimator-id-1\" class=\"sk-toggleable__label fitted sk-toggleable__label-arrow\"><div><div>Pipeline</div></div><div><a class=\"sk-estimator-doc-link fitted\" rel=\"noreferrer\" target=\"_blank\" href=\"https://scikit-learn.org/1.6/modules/generated/sklearn.pipeline.Pipeline.html\">?<span>Documentation for Pipeline</span></a><span class=\"sk-estimator-doc-link fitted\">i<span>Fitted</span></span></div></label><div class=\"sk-toggleable__content fitted\"><pre>Pipeline(steps=[(&#x27;columntransformer&#x27;,\n",
       "                 ColumnTransformer(remainder=&#x27;passthrough&#x27;,\n",
       "                                   transformers=[(&#x27;pipeline-1&#x27;,\n",
       "                                                  Pipeline(steps=[(&#x27;standardscaler&#x27;,\n",
       "                                                                   StandardScaler())]),\n",
       "                                                  [&#x27;pH&#x27;, &#x27;Temperature&#x27;,\n",
       "                                                   &#x27;Colour&#x27;]),\n",
       "                                                 (&#x27;pipeline-2&#x27;,\n",
       "                                                  Pipeline(steps=[(&#x27;onehotencoder&#x27;,\n",
       "                                                                   OneHotEncoder(dtype=&lt;class &#x27;int&#x27;&gt;,\n",
       "                                                                                 handle_unknown=&#x27;ignore&#x27;))]),\n",
       "                                                  [&#x27;Taste&#x27;, &#x27;Odor&#x27;, &#x27;Fat&#x27;,\n",
       "                                                   &#x27;Turbidity&#x27;])])),\n",
       "                (&#x27;logisticregression&#x27;,\n",
       "                 LogisticRegression(C=84, class_weight=&#x27;balanced&#x27;,\n",
       "                                    max_iter=4900, random_state=2025))])</pre></div> </div></div><div class=\"sk-serial\"><div class=\"sk-item sk-dashed-wrapped\"><div class=\"sk-label-container\"><div class=\"sk-label fitted sk-toggleable\"><input class=\"sk-toggleable__control sk-hidden--visually\" id=\"sk-estimator-id-2\" type=\"checkbox\" ><label for=\"sk-estimator-id-2\" class=\"sk-toggleable__label fitted sk-toggleable__label-arrow\"><div><div>columntransformer: ColumnTransformer</div></div><div><a class=\"sk-estimator-doc-link fitted\" rel=\"noreferrer\" target=\"_blank\" href=\"https://scikit-learn.org/1.6/modules/generated/sklearn.compose.ColumnTransformer.html\">?<span>Documentation for columntransformer: ColumnTransformer</span></a></div></label><div class=\"sk-toggleable__content fitted\"><pre>ColumnTransformer(remainder=&#x27;passthrough&#x27;,\n",
       "                  transformers=[(&#x27;pipeline-1&#x27;,\n",
       "                                 Pipeline(steps=[(&#x27;standardscaler&#x27;,\n",
       "                                                  StandardScaler())]),\n",
       "                                 [&#x27;pH&#x27;, &#x27;Temperature&#x27;, &#x27;Colour&#x27;]),\n",
       "                                (&#x27;pipeline-2&#x27;,\n",
       "                                 Pipeline(steps=[(&#x27;onehotencoder&#x27;,\n",
       "                                                  OneHotEncoder(dtype=&lt;class &#x27;int&#x27;&gt;,\n",
       "                                                                handle_unknown=&#x27;ignore&#x27;))]),\n",
       "                                 [&#x27;Taste&#x27;, &#x27;Odor&#x27;, &#x27;Fat&#x27;, &#x27;Turbidity&#x27;])])</pre></div> </div></div><div class=\"sk-parallel\"><div class=\"sk-parallel-item\"><div class=\"sk-item\"><div class=\"sk-label-container\"><div class=\"sk-label fitted sk-toggleable\"><input class=\"sk-toggleable__control sk-hidden--visually\" id=\"sk-estimator-id-3\" type=\"checkbox\" ><label for=\"sk-estimator-id-3\" class=\"sk-toggleable__label fitted sk-toggleable__label-arrow\"><div><div>pipeline-1</div></div></label><div class=\"sk-toggleable__content fitted\"><pre>[&#x27;pH&#x27;, &#x27;Temperature&#x27;, &#x27;Colour&#x27;]</pre></div> </div></div><div class=\"sk-serial\"><div class=\"sk-item\"><div class=\"sk-serial\"><div class=\"sk-item\"><div class=\"sk-estimator fitted sk-toggleable\"><input class=\"sk-toggleable__control sk-hidden--visually\" id=\"sk-estimator-id-4\" type=\"checkbox\" ><label for=\"sk-estimator-id-4\" class=\"sk-toggleable__label fitted sk-toggleable__label-arrow\"><div><div>StandardScaler</div></div><div><a class=\"sk-estimator-doc-link fitted\" rel=\"noreferrer\" target=\"_blank\" href=\"https://scikit-learn.org/1.6/modules/generated/sklearn.preprocessing.StandardScaler.html\">?<span>Documentation for StandardScaler</span></a></div></label><div class=\"sk-toggleable__content fitted\"><pre>StandardScaler()</pre></div> </div></div></div></div></div></div></div><div class=\"sk-parallel-item\"><div class=\"sk-item\"><div class=\"sk-label-container\"><div class=\"sk-label fitted sk-toggleable\"><input class=\"sk-toggleable__control sk-hidden--visually\" id=\"sk-estimator-id-5\" type=\"checkbox\" ><label for=\"sk-estimator-id-5\" class=\"sk-toggleable__label fitted sk-toggleable__label-arrow\"><div><div>pipeline-2</div></div></label><div class=\"sk-toggleable__content fitted\"><pre>[&#x27;Taste&#x27;, &#x27;Odor&#x27;, &#x27;Fat&#x27;, &#x27;Turbidity&#x27;]</pre></div> </div></div><div class=\"sk-serial\"><div class=\"sk-item\"><div class=\"sk-serial\"><div class=\"sk-item\"><div class=\"sk-estimator fitted sk-toggleable\"><input class=\"sk-toggleable__control sk-hidden--visually\" id=\"sk-estimator-id-6\" type=\"checkbox\" ><label for=\"sk-estimator-id-6\" class=\"sk-toggleable__label fitted sk-toggleable__label-arrow\"><div><div>OneHotEncoder</div></div><div><a class=\"sk-estimator-doc-link fitted\" rel=\"noreferrer\" target=\"_blank\" href=\"https://scikit-learn.org/1.6/modules/generated/sklearn.preprocessing.OneHotEncoder.html\">?<span>Documentation for OneHotEncoder</span></a></div></label><div class=\"sk-toggleable__content fitted\"><pre>OneHotEncoder(dtype=&lt;class &#x27;int&#x27;&gt;, handle_unknown=&#x27;ignore&#x27;)</pre></div> </div></div></div></div></div></div></div><div class=\"sk-parallel-item\"><div class=\"sk-item\"><div class=\"sk-label-container\"><div class=\"sk-label fitted sk-toggleable\"><input class=\"sk-toggleable__control sk-hidden--visually\" id=\"sk-estimator-id-7\" type=\"checkbox\" ><label for=\"sk-estimator-id-7\" class=\"sk-toggleable__label fitted sk-toggleable__label-arrow\"><div><div>remainder</div></div></label><div class=\"sk-toggleable__content fitted\"><pre>[]</pre></div> </div></div><div class=\"sk-serial\"><div class=\"sk-item\"><div class=\"sk-estimator fitted sk-toggleable\"><input class=\"sk-toggleable__control sk-hidden--visually\" id=\"sk-estimator-id-8\" type=\"checkbox\" ><label for=\"sk-estimator-id-8\" class=\"sk-toggleable__label fitted sk-toggleable__label-arrow\"><div><div>passthrough</div></div></label><div class=\"sk-toggleable__content fitted\"><pre>passthrough</pre></div> </div></div></div></div></div></div></div><div class=\"sk-item\"><div class=\"sk-estimator fitted sk-toggleable\"><input class=\"sk-toggleable__control sk-hidden--visually\" id=\"sk-estimator-id-9\" type=\"checkbox\" ><label for=\"sk-estimator-id-9\" class=\"sk-toggleable__label fitted sk-toggleable__label-arrow\"><div><div>LogisticRegression</div></div><div><a class=\"sk-estimator-doc-link fitted\" rel=\"noreferrer\" target=\"_blank\" href=\"https://scikit-learn.org/1.6/modules/generated/sklearn.linear_model.LogisticRegression.html\">?<span>Documentation for LogisticRegression</span></a></div></label><div class=\"sk-toggleable__content fitted\"><pre>LogisticRegression(C=84, class_weight=&#x27;balanced&#x27;, max_iter=4900,\n",
       "                   random_state=2025)</pre></div> </div></div></div></div></div></div>"
      ],
      "text/plain": [
       "Pipeline(steps=[('columntransformer',\n",
       "                 ColumnTransformer(remainder='passthrough',\n",
       "                                   transformers=[('pipeline-1',\n",
       "                                                  Pipeline(steps=[('standardscaler',\n",
       "                                                                   StandardScaler())]),\n",
       "                                                  ['pH', 'Temperature',\n",
       "                                                   'Colour']),\n",
       "                                                 ('pipeline-2',\n",
       "                                                  Pipeline(steps=[('onehotencoder',\n",
       "                                                                   OneHotEncoder(dtype=<class 'int'>,\n",
       "                                                                                 handle_unknown='ignore'))]),\n",
       "                                                  ['Taste', 'Odor', 'Fat',\n",
       "                                                   'Turbidity'])])),\n",
       "                ('logisticregression',\n",
       "                 LogisticRegression(C=84, class_weight='balanced',\n",
       "                                    max_iter=4900, random_state=2025))])"
      ]
     },
     "execution_count": 29,
     "metadata": {},
     "output_type": "execute_result"
    }
   ],
   "source": [
    "# Shows best estimator\n",
    "best_model = lr_milk_search.best_estimator_\n",
    "best_model"
   ]
  },
  {
   "cell_type": "code",
   "execution_count": 42,
   "metadata": {},
   "outputs": [
    {
     "data": {
      "text/html": [
       "<style type=\"text/css\">\n",
       "#T_00230 caption {\n",
       "  font-size: 120%;\n",
       "  font-weight: bold;\n",
       "}\n",
       "</style>\n",
       "<table id=\"T_00230\">\n",
       "  <caption>Table #. True vs. Predicated Targets and their Probabilities</caption>\n",
       "  <thead>\n",
       "    <tr>\n",
       "      <th class=\"blank level0\" >&nbsp;</th>\n",
       "      <th id=\"T_00230_level0_col0\" class=\"col_heading level0 col0\" >y</th>\n",
       "      <th id=\"T_00230_level0_col1\" class=\"col_heading level0 col1\" >pred_y</th>\n",
       "      <th id=\"T_00230_level0_col2\" class=\"col_heading level0 col2\" >probability grade</th>\n",
       "    </tr>\n",
       "  </thead>\n",
       "  <tbody>\n",
       "    <tr>\n",
       "      <th id=\"T_00230_level0_row0\" class=\"row_heading level0 row0\" >603</th>\n",
       "      <td id=\"T_00230_row0_col0\" class=\"data row0 col0\" >high</td>\n",
       "      <td id=\"T_00230_row0_col1\" class=\"data row0 col1\" >high</td>\n",
       "      <td id=\"T_00230_row0_col2\" class=\"data row0 col2\" >0.992699</td>\n",
       "    </tr>\n",
       "    <tr>\n",
       "      <th id=\"T_00230_level0_row1\" class=\"row_heading level0 row1\" >105</th>\n",
       "      <td id=\"T_00230_row1_col0\" class=\"data row1 col0\" >high</td>\n",
       "      <td id=\"T_00230_row1_col1\" class=\"data row1 col1\" >high</td>\n",
       "      <td id=\"T_00230_row1_col2\" class=\"data row1 col2\" >0.992699</td>\n",
       "    </tr>\n",
       "    <tr>\n",
       "      <th id=\"T_00230_level0_row2\" class=\"row_heading level0 row2\" >425</th>\n",
       "      <td id=\"T_00230_row2_col0\" class=\"data row2 col0\" >high</td>\n",
       "      <td id=\"T_00230_row2_col1\" class=\"data row2 col1\" >high</td>\n",
       "      <td id=\"T_00230_row2_col2\" class=\"data row2 col2\" >0.992699</td>\n",
       "    </tr>\n",
       "    <tr>\n",
       "      <th id=\"T_00230_level0_row3\" class=\"row_heading level0 row3\" >736</th>\n",
       "      <td id=\"T_00230_row3_col0\" class=\"data row3 col0\" >high</td>\n",
       "      <td id=\"T_00230_row3_col1\" class=\"data row3 col1\" >high</td>\n",
       "      <td id=\"T_00230_row3_col2\" class=\"data row3 col2\" >0.992699</td>\n",
       "    </tr>\n",
       "    <tr>\n",
       "      <th id=\"T_00230_level0_row4\" class=\"row_heading level0 row4\" >161</th>\n",
       "      <td id=\"T_00230_row4_col0\" class=\"data row4 col0\" >high</td>\n",
       "      <td id=\"T_00230_row4_col1\" class=\"data row4 col1\" >high</td>\n",
       "      <td id=\"T_00230_row4_col2\" class=\"data row4 col2\" >0.992699</td>\n",
       "    </tr>\n",
       "  </tbody>\n",
       "</table>\n"
      ],
      "text/plain": [
       "<pandas.io.formats.style.Styler at 0x1751a39e0>"
      ]
     },
     "execution_count": 42,
     "metadata": {},
     "output_type": "execute_result"
    }
   ],
   "source": [
    "# Compares true against predicted target labels and associates with probability to predict \n",
    "predict_y = lr_milk_search.predict(X_train)\n",
    "y_proba = lr_milk_search.predict_proba(X_train)\n",
    "milk_targets = pd.DataFrame(\n",
    "    {\n",
    "        \"y\": y_train,\n",
    "        \"pred_y\": predict_y.tolist(),\n",
    "        \"probability grade\": y_proba[:, 0].tolist(),\n",
    "    }\n",
    ").sort_values(by=\"probability grade\", ascending=False)\n",
    "milk_targets.head().style.set_caption(\n",
    "    \"Table #. True vs. Predicated Targets and their Probabilities\"\n",
    ").set_table_styles(styles)"
   ]
  },
  {
   "cell_type": "code",
   "execution_count": 36,
   "metadata": {},
   "outputs": [
    {
     "data": {
      "text/plain": [
       "<sklearn.metrics._plot.confusion_matrix.ConfusionMatrixDisplay at 0x17509e210>"
      ]
     },
     "execution_count": 36,
     "metadata": {},
     "output_type": "execute_result"
    },
    {
     "data": {
      "image/png": "[encoded data removed]",
      "text/plain": [
       "<Figure size 640x480 with 2 Axes>"
      ]
     },
     "metadata": {},
     "output_type": "display_data"
    }
   ],
   "source": [
    "# Plots confusion matrix of estimator using test data\n",
    "milk_confusion_plot = ConfusionMatrixDisplay.from_estimator(lr_milk_search,X_test,y_test)\n",
    "milk_confusion_plot"
   ]
  },
  {
   "cell_type": "code",
   "execution_count": 37,
   "metadata": {},
   "outputs": [
    {
     "name": "stdout",
     "output_type": "stream",
     "text": [
      "              precision    recall  f1-score   support\n",
      "\n",
      "        high       0.83      0.94      0.88        69\n",
      "         low       0.89      0.83      0.86        78\n",
      "      medium       0.90      0.85      0.87        65\n",
      "\n",
      "    accuracy                           0.87       212\n",
      "   macro avg       0.88      0.87      0.87       212\n",
      "weighted avg       0.88      0.87      0.87       212\n",
      "\n"
     ]
    }
   ],
   "source": [
    "# Prints classification report of tested and predicted target data\n",
    "y_pred = lr_milk_search.predict(X_test)\n",
    "print(classification_report(y_test, y_pred))"
   ]
  },
  {
   "cell_type": "markdown",
   "metadata": {},
   "source": [
    "Evaluating the `training_score` of the best scoring model."
   ]
  },
  {
   "cell_type": "code",
   "execution_count": 38,
   "metadata": {},
   "outputs": [
    {
     "data": {
      "text/plain": [
       "0.8512396694214877"
      ]
     },
     "execution_count": 38,
     "metadata": {},
     "output_type": "execute_result"
    }
   ],
   "source": [
    "# Scores X_train and y_train data using tuned Logistic Regression model\n",
    "training_score = lr_milk_search.score(X_train, y_train)\n",
    "training_score"
   ]
  },
  {
   "cell_type": "markdown",
   "metadata": {},
   "source": [
    "Evaluating the `testing_score` of the best scoring model."
   ]
  },
  {
   "cell_type": "code",
   "execution_count": 39,
   "metadata": {},
   "outputs": [
    {
     "data": {
      "text/plain": [
       "0.8726415094339622"
      ]
     },
     "execution_count": 39,
     "metadata": {},
     "output_type": "execute_result"
    }
   ],
   "source": [
    "# Scores X_test and y_test data using tuned Logistic Regression model\n",
    "test_score = lr_milk_search.score(X_test, y_test)\n",
    "test_score"
   ]
  },
  {
   "cell_type": "markdown",
   "metadata": {},
   "source": [
    "## <ins> Discussion </ins>"
   ]
  },
  {
   "cell_type": "markdown",
   "metadata": {},
   "source": [
    "Text here if we want to use this file to generate report. Can also use Google Docs or whatever anyone else prefers!"
   ]
  },
  {
   "cell_type": "markdown",
   "metadata": {},
   "source": [
    "## <ins> Conclusion </ins>"
   ]
  },
  {
   "cell_type": "markdown",
   "metadata": {},
   "source": [
    "Text here if we want to use this file to generate report. Can also use Google Docs or whatever anyone else prefers!"
   ]
  },
  {
   "cell_type": "markdown",
   "metadata": {},
   "source": [
    "## <ins> References </ins>"
   ]
  },
  {
   "cell_type": "markdown",
   "metadata": {},
   "source": [
    "1. [Milk Data](https://www.kaggle.com/datasets/cpluzshrijayan/milkquality/data)"
   ]
  }
 ],
 "metadata": {
  "kernelspec": {
   "display_name": "Python 3 (ipykernel)",
   "language": "python",
   "name": "python3"
  },
  "language_info": {
   "codemirror_mode": {
    "name": "ipython",
    "version": 3
   },
   "file_extension": ".py",
   "mimetype": "text/x-python",
   "name": "python",
   "nbconvert_exporter": "python",
   "pygments_lexer": "ipython3",
   "version": "3.12.2"
  }
 },
 "nbformat": 4,
 "nbformat_minor": 4
}
